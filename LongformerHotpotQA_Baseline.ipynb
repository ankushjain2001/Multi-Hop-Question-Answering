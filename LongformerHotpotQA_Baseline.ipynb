{
  "nbformat": 4,
  "nbformat_minor": 0,
  "metadata": {
    "colab": {
      "name": "Baseline_Inference_LongformerHotpotQA.ipynb",
      "provenance": [],
      "collapsed_sections": [],
      "toc_visible": true
    },
    "kernelspec": {
      "name": "python3",
      "display_name": "Python 3"
    },
    "accelerator": "GPU",
    "widgets": {
      "application/vnd.jupyter.widget-state+json": {
        "456917722feb48ffb70efc6f9c7dfa8d": {
          "model_module": "@jupyter-widgets/controls",
          "model_name": "HBoxModel",
          "state": {
            "_view_name": "HBoxView",
            "_dom_classes": [],
            "_model_name": "HBoxModel",
            "_view_module": "@jupyter-widgets/controls",
            "_model_module_version": "1.5.0",
            "_view_count": null,
            "_view_module_version": "1.5.0",
            "box_style": "",
            "layout": "IPY_MODEL_29e94a85c6394b16bef62bd8df420b89",
            "_model_module": "@jupyter-widgets/controls",
            "children": [
              "IPY_MODEL_01efbe5bf0b84a719009704bacabea99",
              "IPY_MODEL_cfc2ea0c844844a99144fb51309d9202"
            ]
          }
        },
        "29e94a85c6394b16bef62bd8df420b89": {
          "model_module": "@jupyter-widgets/base",
          "model_name": "LayoutModel",
          "state": {
            "_view_name": "LayoutView",
            "grid_template_rows": null,
            "right": null,
            "justify_content": null,
            "_view_module": "@jupyter-widgets/base",
            "overflow": null,
            "_model_module_version": "1.2.0",
            "_view_count": null,
            "flex_flow": null,
            "width": null,
            "min_width": null,
            "border": null,
            "align_items": null,
            "bottom": null,
            "_model_module": "@jupyter-widgets/base",
            "top": null,
            "grid_column": null,
            "overflow_y": null,
            "overflow_x": null,
            "grid_auto_flow": null,
            "grid_area": null,
            "grid_template_columns": null,
            "flex": null,
            "_model_name": "LayoutModel",
            "justify_items": null,
            "grid_row": null,
            "max_height": null,
            "align_content": null,
            "visibility": null,
            "align_self": null,
            "height": null,
            "min_height": null,
            "padding": null,
            "grid_auto_rows": null,
            "grid_gap": null,
            "max_width": null,
            "order": null,
            "_view_module_version": "1.2.0",
            "grid_template_areas": null,
            "object_position": null,
            "object_fit": null,
            "grid_auto_columns": null,
            "margin": null,
            "display": null,
            "left": null
          }
        },
        "01efbe5bf0b84a719009704bacabea99": {
          "model_module": "@jupyter-widgets/controls",
          "model_name": "FloatProgressModel",
          "state": {
            "_view_name": "ProgressView",
            "style": "IPY_MODEL_c366ea47fba34e69878f2c558f07644d",
            "_dom_classes": [],
            "description": "Downloading: 100%",
            "_model_name": "FloatProgressModel",
            "bar_style": "success",
            "max": 898823,
            "_view_module": "@jupyter-widgets/controls",
            "_model_module_version": "1.5.0",
            "value": 898823,
            "_view_count": null,
            "_view_module_version": "1.5.0",
            "orientation": "horizontal",
            "min": 0,
            "description_tooltip": null,
            "_model_module": "@jupyter-widgets/controls",
            "layout": "IPY_MODEL_0778b579b9434f6cb82ca9f90f724a84"
          }
        },
        "cfc2ea0c844844a99144fb51309d9202": {
          "model_module": "@jupyter-widgets/controls",
          "model_name": "HTMLModel",
          "state": {
            "_view_name": "HTMLView",
            "style": "IPY_MODEL_b9a0bd38b6264931a4c2becd653eba3b",
            "_dom_classes": [],
            "description": "",
            "_model_name": "HTMLModel",
            "placeholder": "​",
            "_view_module": "@jupyter-widgets/controls",
            "_model_module_version": "1.5.0",
            "value": " 899k/899k [00:01&lt;00:00, 765kB/s]",
            "_view_count": null,
            "_view_module_version": "1.5.0",
            "description_tooltip": null,
            "_model_module": "@jupyter-widgets/controls",
            "layout": "IPY_MODEL_800a63a0c7e0464aafa59e79e7935629"
          }
        },
        "c366ea47fba34e69878f2c558f07644d": {
          "model_module": "@jupyter-widgets/controls",
          "model_name": "ProgressStyleModel",
          "state": {
            "_view_name": "StyleView",
            "_model_name": "ProgressStyleModel",
            "description_width": "initial",
            "_view_module": "@jupyter-widgets/base",
            "_model_module_version": "1.5.0",
            "_view_count": null,
            "_view_module_version": "1.2.0",
            "bar_color": null,
            "_model_module": "@jupyter-widgets/controls"
          }
        },
        "0778b579b9434f6cb82ca9f90f724a84": {
          "model_module": "@jupyter-widgets/base",
          "model_name": "LayoutModel",
          "state": {
            "_view_name": "LayoutView",
            "grid_template_rows": null,
            "right": null,
            "justify_content": null,
            "_view_module": "@jupyter-widgets/base",
            "overflow": null,
            "_model_module_version": "1.2.0",
            "_view_count": null,
            "flex_flow": null,
            "width": null,
            "min_width": null,
            "border": null,
            "align_items": null,
            "bottom": null,
            "_model_module": "@jupyter-widgets/base",
            "top": null,
            "grid_column": null,
            "overflow_y": null,
            "overflow_x": null,
            "grid_auto_flow": null,
            "grid_area": null,
            "grid_template_columns": null,
            "flex": null,
            "_model_name": "LayoutModel",
            "justify_items": null,
            "grid_row": null,
            "max_height": null,
            "align_content": null,
            "visibility": null,
            "align_self": null,
            "height": null,
            "min_height": null,
            "padding": null,
            "grid_auto_rows": null,
            "grid_gap": null,
            "max_width": null,
            "order": null,
            "_view_module_version": "1.2.0",
            "grid_template_areas": null,
            "object_position": null,
            "object_fit": null,
            "grid_auto_columns": null,
            "margin": null,
            "display": null,
            "left": null
          }
        },
        "b9a0bd38b6264931a4c2becd653eba3b": {
          "model_module": "@jupyter-widgets/controls",
          "model_name": "DescriptionStyleModel",
          "state": {
            "_view_name": "StyleView",
            "_model_name": "DescriptionStyleModel",
            "description_width": "",
            "_view_module": "@jupyter-widgets/base",
            "_model_module_version": "1.5.0",
            "_view_count": null,
            "_view_module_version": "1.2.0",
            "_model_module": "@jupyter-widgets/controls"
          }
        },
        "800a63a0c7e0464aafa59e79e7935629": {
          "model_module": "@jupyter-widgets/base",
          "model_name": "LayoutModel",
          "state": {
            "_view_name": "LayoutView",
            "grid_template_rows": null,
            "right": null,
            "justify_content": null,
            "_view_module": "@jupyter-widgets/base",
            "overflow": null,
            "_model_module_version": "1.2.0",
            "_view_count": null,
            "flex_flow": null,
            "width": null,
            "min_width": null,
            "border": null,
            "align_items": null,
            "bottom": null,
            "_model_module": "@jupyter-widgets/base",
            "top": null,
            "grid_column": null,
            "overflow_y": null,
            "overflow_x": null,
            "grid_auto_flow": null,
            "grid_area": null,
            "grid_template_columns": null,
            "flex": null,
            "_model_name": "LayoutModel",
            "justify_items": null,
            "grid_row": null,
            "max_height": null,
            "align_content": null,
            "visibility": null,
            "align_self": null,
            "height": null,
            "min_height": null,
            "padding": null,
            "grid_auto_rows": null,
            "grid_gap": null,
            "max_width": null,
            "order": null,
            "_view_module_version": "1.2.0",
            "grid_template_areas": null,
            "object_position": null,
            "object_fit": null,
            "grid_auto_columns": null,
            "margin": null,
            "display": null,
            "left": null
          }
        },
        "9e028da679ae4afa866ee4906f14ab45": {
          "model_module": "@jupyter-widgets/controls",
          "model_name": "HBoxModel",
          "state": {
            "_view_name": "HBoxView",
            "_dom_classes": [],
            "_model_name": "HBoxModel",
            "_view_module": "@jupyter-widgets/controls",
            "_model_module_version": "1.5.0",
            "_view_count": null,
            "_view_module_version": "1.5.0",
            "box_style": "",
            "layout": "IPY_MODEL_b8b7ce2bd34f41639eaa3b65227161ac",
            "_model_module": "@jupyter-widgets/controls",
            "children": [
              "IPY_MODEL_03307a4b8697449db6d18586f079958f",
              "IPY_MODEL_374ca460269e48978b58dcd12e70044a"
            ]
          }
        },
        "b8b7ce2bd34f41639eaa3b65227161ac": {
          "model_module": "@jupyter-widgets/base",
          "model_name": "LayoutModel",
          "state": {
            "_view_name": "LayoutView",
            "grid_template_rows": null,
            "right": null,
            "justify_content": null,
            "_view_module": "@jupyter-widgets/base",
            "overflow": null,
            "_model_module_version": "1.2.0",
            "_view_count": null,
            "flex_flow": null,
            "width": null,
            "min_width": null,
            "border": null,
            "align_items": null,
            "bottom": null,
            "_model_module": "@jupyter-widgets/base",
            "top": null,
            "grid_column": null,
            "overflow_y": null,
            "overflow_x": null,
            "grid_auto_flow": null,
            "grid_area": null,
            "grid_template_columns": null,
            "flex": null,
            "_model_name": "LayoutModel",
            "justify_items": null,
            "grid_row": null,
            "max_height": null,
            "align_content": null,
            "visibility": null,
            "align_self": null,
            "height": null,
            "min_height": null,
            "padding": null,
            "grid_auto_rows": null,
            "grid_gap": null,
            "max_width": null,
            "order": null,
            "_view_module_version": "1.2.0",
            "grid_template_areas": null,
            "object_position": null,
            "object_fit": null,
            "grid_auto_columns": null,
            "margin": null,
            "display": null,
            "left": null
          }
        },
        "03307a4b8697449db6d18586f079958f": {
          "model_module": "@jupyter-widgets/controls",
          "model_name": "FloatProgressModel",
          "state": {
            "_view_name": "ProgressView",
            "style": "IPY_MODEL_aeae0ed926fd4661bb79d308ae54e11f",
            "_dom_classes": [],
            "description": "Downloading: 100%",
            "_model_name": "FloatProgressModel",
            "bar_style": "success",
            "max": 456318,
            "_view_module": "@jupyter-widgets/controls",
            "_model_module_version": "1.5.0",
            "value": 456318,
            "_view_count": null,
            "_view_module_version": "1.5.0",
            "orientation": "horizontal",
            "min": 0,
            "description_tooltip": null,
            "_model_module": "@jupyter-widgets/controls",
            "layout": "IPY_MODEL_3730d32607994f6d9be5e0c690cacbc9"
          }
        },
        "374ca460269e48978b58dcd12e70044a": {
          "model_module": "@jupyter-widgets/controls",
          "model_name": "HTMLModel",
          "state": {
            "_view_name": "HTMLView",
            "style": "IPY_MODEL_ee60d90a1a1e4c06a31a1eb4fc7ad9c0",
            "_dom_classes": [],
            "description": "",
            "_model_name": "HTMLModel",
            "placeholder": "​",
            "_view_module": "@jupyter-widgets/controls",
            "_model_module_version": "1.5.0",
            "value": " 456k/456k [00:00&lt;00:00, 1.23MB/s]",
            "_view_count": null,
            "_view_module_version": "1.5.0",
            "description_tooltip": null,
            "_model_module": "@jupyter-widgets/controls",
            "layout": "IPY_MODEL_6b66b691b4a64093bdc6c4908fe099bc"
          }
        },
        "aeae0ed926fd4661bb79d308ae54e11f": {
          "model_module": "@jupyter-widgets/controls",
          "model_name": "ProgressStyleModel",
          "state": {
            "_view_name": "StyleView",
            "_model_name": "ProgressStyleModel",
            "description_width": "initial",
            "_view_module": "@jupyter-widgets/base",
            "_model_module_version": "1.5.0",
            "_view_count": null,
            "_view_module_version": "1.2.0",
            "bar_color": null,
            "_model_module": "@jupyter-widgets/controls"
          }
        },
        "3730d32607994f6d9be5e0c690cacbc9": {
          "model_module": "@jupyter-widgets/base",
          "model_name": "LayoutModel",
          "state": {
            "_view_name": "LayoutView",
            "grid_template_rows": null,
            "right": null,
            "justify_content": null,
            "_view_module": "@jupyter-widgets/base",
            "overflow": null,
            "_model_module_version": "1.2.0",
            "_view_count": null,
            "flex_flow": null,
            "width": null,
            "min_width": null,
            "border": null,
            "align_items": null,
            "bottom": null,
            "_model_module": "@jupyter-widgets/base",
            "top": null,
            "grid_column": null,
            "overflow_y": null,
            "overflow_x": null,
            "grid_auto_flow": null,
            "grid_area": null,
            "grid_template_columns": null,
            "flex": null,
            "_model_name": "LayoutModel",
            "justify_items": null,
            "grid_row": null,
            "max_height": null,
            "align_content": null,
            "visibility": null,
            "align_self": null,
            "height": null,
            "min_height": null,
            "padding": null,
            "grid_auto_rows": null,
            "grid_gap": null,
            "max_width": null,
            "order": null,
            "_view_module_version": "1.2.0",
            "grid_template_areas": null,
            "object_position": null,
            "object_fit": null,
            "grid_auto_columns": null,
            "margin": null,
            "display": null,
            "left": null
          }
        },
        "ee60d90a1a1e4c06a31a1eb4fc7ad9c0": {
          "model_module": "@jupyter-widgets/controls",
          "model_name": "DescriptionStyleModel",
          "state": {
            "_view_name": "StyleView",
            "_model_name": "DescriptionStyleModel",
            "description_width": "",
            "_view_module": "@jupyter-widgets/base",
            "_model_module_version": "1.5.0",
            "_view_count": null,
            "_view_module_version": "1.2.0",
            "_model_module": "@jupyter-widgets/controls"
          }
        },
        "6b66b691b4a64093bdc6c4908fe099bc": {
          "model_module": "@jupyter-widgets/base",
          "model_name": "LayoutModel",
          "state": {
            "_view_name": "LayoutView",
            "grid_template_rows": null,
            "right": null,
            "justify_content": null,
            "_view_module": "@jupyter-widgets/base",
            "overflow": null,
            "_model_module_version": "1.2.0",
            "_view_count": null,
            "flex_flow": null,
            "width": null,
            "min_width": null,
            "border": null,
            "align_items": null,
            "bottom": null,
            "_model_module": "@jupyter-widgets/base",
            "top": null,
            "grid_column": null,
            "overflow_y": null,
            "overflow_x": null,
            "grid_auto_flow": null,
            "grid_area": null,
            "grid_template_columns": null,
            "flex": null,
            "_model_name": "LayoutModel",
            "justify_items": null,
            "grid_row": null,
            "max_height": null,
            "align_content": null,
            "visibility": null,
            "align_self": null,
            "height": null,
            "min_height": null,
            "padding": null,
            "grid_auto_rows": null,
            "grid_gap": null,
            "max_width": null,
            "order": null,
            "_view_module_version": "1.2.0",
            "grid_template_areas": null,
            "object_position": null,
            "object_fit": null,
            "grid_auto_columns": null,
            "margin": null,
            "display": null,
            "left": null
          }
        },
        "8096a5420a304b6ab481e7d4ed22c791": {
          "model_module": "@jupyter-widgets/controls",
          "model_name": "HBoxModel",
          "state": {
            "_view_name": "HBoxView",
            "_dom_classes": [],
            "_model_name": "HBoxModel",
            "_view_module": "@jupyter-widgets/controls",
            "_model_module_version": "1.5.0",
            "_view_count": null,
            "_view_module_version": "1.5.0",
            "box_style": "",
            "layout": "IPY_MODEL_2c2e4b9950714b539c66db23557b285a",
            "_model_module": "@jupyter-widgets/controls",
            "children": [
              "IPY_MODEL_0af11ff556d04cef93f4a90ba03e67da",
              "IPY_MODEL_45f52ef34926466bbfdfdbd36a87f3b5"
            ]
          }
        },
        "2c2e4b9950714b539c66db23557b285a": {
          "model_module": "@jupyter-widgets/base",
          "model_name": "LayoutModel",
          "state": {
            "_view_name": "LayoutView",
            "grid_template_rows": null,
            "right": null,
            "justify_content": null,
            "_view_module": "@jupyter-widgets/base",
            "overflow": null,
            "_model_module_version": "1.2.0",
            "_view_count": null,
            "flex_flow": null,
            "width": null,
            "min_width": null,
            "border": null,
            "align_items": null,
            "bottom": null,
            "_model_module": "@jupyter-widgets/base",
            "top": null,
            "grid_column": null,
            "overflow_y": null,
            "overflow_x": null,
            "grid_auto_flow": null,
            "grid_area": null,
            "grid_template_columns": null,
            "flex": null,
            "_model_name": "LayoutModel",
            "justify_items": null,
            "grid_row": null,
            "max_height": null,
            "align_content": null,
            "visibility": null,
            "align_self": null,
            "height": null,
            "min_height": null,
            "padding": null,
            "grid_auto_rows": null,
            "grid_gap": null,
            "max_width": null,
            "order": null,
            "_view_module_version": "1.2.0",
            "grid_template_areas": null,
            "object_position": null,
            "object_fit": null,
            "grid_auto_columns": null,
            "margin": null,
            "display": null,
            "left": null
          }
        },
        "0af11ff556d04cef93f4a90ba03e67da": {
          "model_module": "@jupyter-widgets/controls",
          "model_name": "FloatProgressModel",
          "state": {
            "_view_name": "ProgressView",
            "style": "IPY_MODEL_bb25439fe2e1434797271355f5cde0b9",
            "_dom_classes": [],
            "description": "Downloading: 100%",
            "_model_name": "FloatProgressModel",
            "bar_style": "success",
            "max": 866,
            "_view_module": "@jupyter-widgets/controls",
            "_model_module_version": "1.5.0",
            "value": 866,
            "_view_count": null,
            "_view_module_version": "1.5.0",
            "orientation": "horizontal",
            "min": 0,
            "description_tooltip": null,
            "_model_module": "@jupyter-widgets/controls",
            "layout": "IPY_MODEL_ebfcdfaf324d46c6a9f8d82a58938946"
          }
        },
        "45f52ef34926466bbfdfdbd36a87f3b5": {
          "model_module": "@jupyter-widgets/controls",
          "model_name": "HTMLModel",
          "state": {
            "_view_name": "HTMLView",
            "style": "IPY_MODEL_3d5eadb90f30454380cdb5c1a047064c",
            "_dom_classes": [],
            "description": "",
            "_model_name": "HTMLModel",
            "placeholder": "​",
            "_view_module": "@jupyter-widgets/controls",
            "_model_module_version": "1.5.0",
            "value": " 866/866 [00:00&lt;00:00, 1.15kB/s]",
            "_view_count": null,
            "_view_module_version": "1.5.0",
            "description_tooltip": null,
            "_model_module": "@jupyter-widgets/controls",
            "layout": "IPY_MODEL_7c0d3f06cb4c47609a9ab24728e24099"
          }
        },
        "bb25439fe2e1434797271355f5cde0b9": {
          "model_module": "@jupyter-widgets/controls",
          "model_name": "ProgressStyleModel",
          "state": {
            "_view_name": "StyleView",
            "_model_name": "ProgressStyleModel",
            "description_width": "initial",
            "_view_module": "@jupyter-widgets/base",
            "_model_module_version": "1.5.0",
            "_view_count": null,
            "_view_module_version": "1.2.0",
            "bar_color": null,
            "_model_module": "@jupyter-widgets/controls"
          }
        },
        "ebfcdfaf324d46c6a9f8d82a58938946": {
          "model_module": "@jupyter-widgets/base",
          "model_name": "LayoutModel",
          "state": {
            "_view_name": "LayoutView",
            "grid_template_rows": null,
            "right": null,
            "justify_content": null,
            "_view_module": "@jupyter-widgets/base",
            "overflow": null,
            "_model_module_version": "1.2.0",
            "_view_count": null,
            "flex_flow": null,
            "width": null,
            "min_width": null,
            "border": null,
            "align_items": null,
            "bottom": null,
            "_model_module": "@jupyter-widgets/base",
            "top": null,
            "grid_column": null,
            "overflow_y": null,
            "overflow_x": null,
            "grid_auto_flow": null,
            "grid_area": null,
            "grid_template_columns": null,
            "flex": null,
            "_model_name": "LayoutModel",
            "justify_items": null,
            "grid_row": null,
            "max_height": null,
            "align_content": null,
            "visibility": null,
            "align_self": null,
            "height": null,
            "min_height": null,
            "padding": null,
            "grid_auto_rows": null,
            "grid_gap": null,
            "max_width": null,
            "order": null,
            "_view_module_version": "1.2.0",
            "grid_template_areas": null,
            "object_position": null,
            "object_fit": null,
            "grid_auto_columns": null,
            "margin": null,
            "display": null,
            "left": null
          }
        },
        "3d5eadb90f30454380cdb5c1a047064c": {
          "model_module": "@jupyter-widgets/controls",
          "model_name": "DescriptionStyleModel",
          "state": {
            "_view_name": "StyleView",
            "_model_name": "DescriptionStyleModel",
            "description_width": "",
            "_view_module": "@jupyter-widgets/base",
            "_model_module_version": "1.5.0",
            "_view_count": null,
            "_view_module_version": "1.2.0",
            "_model_module": "@jupyter-widgets/controls"
          }
        },
        "7c0d3f06cb4c47609a9ab24728e24099": {
          "model_module": "@jupyter-widgets/base",
          "model_name": "LayoutModel",
          "state": {
            "_view_name": "LayoutView",
            "grid_template_rows": null,
            "right": null,
            "justify_content": null,
            "_view_module": "@jupyter-widgets/base",
            "overflow": null,
            "_model_module_version": "1.2.0",
            "_view_count": null,
            "flex_flow": null,
            "width": null,
            "min_width": null,
            "border": null,
            "align_items": null,
            "bottom": null,
            "_model_module": "@jupyter-widgets/base",
            "top": null,
            "grid_column": null,
            "overflow_y": null,
            "overflow_x": null,
            "grid_auto_flow": null,
            "grid_area": null,
            "grid_template_columns": null,
            "flex": null,
            "_model_name": "LayoutModel",
            "justify_items": null,
            "grid_row": null,
            "max_height": null,
            "align_content": null,
            "visibility": null,
            "align_self": null,
            "height": null,
            "min_height": null,
            "padding": null,
            "grid_auto_rows": null,
            "grid_gap": null,
            "max_width": null,
            "order": null,
            "_view_module_version": "1.2.0",
            "grid_template_areas": null,
            "object_position": null,
            "object_fit": null,
            "grid_auto_columns": null,
            "margin": null,
            "display": null,
            "left": null
          }
        },
        "6471f6f5aa1844ebbabe4c88ce378fdc": {
          "model_module": "@jupyter-widgets/controls",
          "model_name": "HBoxModel",
          "state": {
            "_view_name": "HBoxView",
            "_dom_classes": [],
            "_model_name": "HBoxModel",
            "_view_module": "@jupyter-widgets/controls",
            "_model_module_version": "1.5.0",
            "_view_count": null,
            "_view_module_version": "1.5.0",
            "box_style": "",
            "layout": "IPY_MODEL_c732486b3d3b4f70a107a25848c0af73",
            "_model_module": "@jupyter-widgets/controls",
            "children": [
              "IPY_MODEL_b6d29ff796d2480d81e68bc26054621f",
              "IPY_MODEL_db2ce69de65e4fb8aee2f8d351d1fac5"
            ]
          }
        },
        "c732486b3d3b4f70a107a25848c0af73": {
          "model_module": "@jupyter-widgets/base",
          "model_name": "LayoutModel",
          "state": {
            "_view_name": "LayoutView",
            "grid_template_rows": null,
            "right": null,
            "justify_content": null,
            "_view_module": "@jupyter-widgets/base",
            "overflow": null,
            "_model_module_version": "1.2.0",
            "_view_count": null,
            "flex_flow": null,
            "width": null,
            "min_width": null,
            "border": null,
            "align_items": null,
            "bottom": null,
            "_model_module": "@jupyter-widgets/base",
            "top": null,
            "grid_column": null,
            "overflow_y": null,
            "overflow_x": null,
            "grid_auto_flow": null,
            "grid_area": null,
            "grid_template_columns": null,
            "flex": null,
            "_model_name": "LayoutModel",
            "justify_items": null,
            "grid_row": null,
            "max_height": null,
            "align_content": null,
            "visibility": null,
            "align_self": null,
            "height": null,
            "min_height": null,
            "padding": null,
            "grid_auto_rows": null,
            "grid_gap": null,
            "max_width": null,
            "order": null,
            "_view_module_version": "1.2.0",
            "grid_template_areas": null,
            "object_position": null,
            "object_fit": null,
            "grid_auto_columns": null,
            "margin": null,
            "display": null,
            "left": null
          }
        },
        "b6d29ff796d2480d81e68bc26054621f": {
          "model_module": "@jupyter-widgets/controls",
          "model_name": "FloatProgressModel",
          "state": {
            "_view_name": "ProgressView",
            "style": "IPY_MODEL_69d73633ebdd4e2391c226c899a579e0",
            "_dom_classes": [],
            "description": "Downloading: 100%",
            "_model_name": "FloatProgressModel",
            "bar_style": "success",
            "max": 1739063632,
            "_view_module": "@jupyter-widgets/controls",
            "_model_module_version": "1.5.0",
            "value": 1739063632,
            "_view_count": null,
            "_view_module_version": "1.5.0",
            "orientation": "horizontal",
            "min": 0,
            "description_tooltip": null,
            "_model_module": "@jupyter-widgets/controls",
            "layout": "IPY_MODEL_543fee398c2047bf9b270e3aae40f39b"
          }
        },
        "db2ce69de65e4fb8aee2f8d351d1fac5": {
          "model_module": "@jupyter-widgets/controls",
          "model_name": "HTMLModel",
          "state": {
            "_view_name": "HTMLView",
            "style": "IPY_MODEL_92350f8509184e15b56b8ce9ac772850",
            "_dom_classes": [],
            "description": "",
            "_model_name": "HTMLModel",
            "placeholder": "​",
            "_view_module": "@jupyter-widgets/controls",
            "_model_module_version": "1.5.0",
            "value": " 1.74G/1.74G [00:49&lt;00:00, 34.8MB/s]",
            "_view_count": null,
            "_view_module_version": "1.5.0",
            "description_tooltip": null,
            "_model_module": "@jupyter-widgets/controls",
            "layout": "IPY_MODEL_cae7d6ed415d4ae5b893ebdee24fb7c7"
          }
        },
        "69d73633ebdd4e2391c226c899a579e0": {
          "model_module": "@jupyter-widgets/controls",
          "model_name": "ProgressStyleModel",
          "state": {
            "_view_name": "StyleView",
            "_model_name": "ProgressStyleModel",
            "description_width": "initial",
            "_view_module": "@jupyter-widgets/base",
            "_model_module_version": "1.5.0",
            "_view_count": null,
            "_view_module_version": "1.2.0",
            "bar_color": null,
            "_model_module": "@jupyter-widgets/controls"
          }
        },
        "543fee398c2047bf9b270e3aae40f39b": {
          "model_module": "@jupyter-widgets/base",
          "model_name": "LayoutModel",
          "state": {
            "_view_name": "LayoutView",
            "grid_template_rows": null,
            "right": null,
            "justify_content": null,
            "_view_module": "@jupyter-widgets/base",
            "overflow": null,
            "_model_module_version": "1.2.0",
            "_view_count": null,
            "flex_flow": null,
            "width": null,
            "min_width": null,
            "border": null,
            "align_items": null,
            "bottom": null,
            "_model_module": "@jupyter-widgets/base",
            "top": null,
            "grid_column": null,
            "overflow_y": null,
            "overflow_x": null,
            "grid_auto_flow": null,
            "grid_area": null,
            "grid_template_columns": null,
            "flex": null,
            "_model_name": "LayoutModel",
            "justify_items": null,
            "grid_row": null,
            "max_height": null,
            "align_content": null,
            "visibility": null,
            "align_self": null,
            "height": null,
            "min_height": null,
            "padding": null,
            "grid_auto_rows": null,
            "grid_gap": null,
            "max_width": null,
            "order": null,
            "_view_module_version": "1.2.0",
            "grid_template_areas": null,
            "object_position": null,
            "object_fit": null,
            "grid_auto_columns": null,
            "margin": null,
            "display": null,
            "left": null
          }
        },
        "92350f8509184e15b56b8ce9ac772850": {
          "model_module": "@jupyter-widgets/controls",
          "model_name": "DescriptionStyleModel",
          "state": {
            "_view_name": "StyleView",
            "_model_name": "DescriptionStyleModel",
            "description_width": "",
            "_view_module": "@jupyter-widgets/base",
            "_model_module_version": "1.5.0",
            "_view_count": null,
            "_view_module_version": "1.2.0",
            "_model_module": "@jupyter-widgets/controls"
          }
        },
        "cae7d6ed415d4ae5b893ebdee24fb7c7": {
          "model_module": "@jupyter-widgets/base",
          "model_name": "LayoutModel",
          "state": {
            "_view_name": "LayoutView",
            "grid_template_rows": null,
            "right": null,
            "justify_content": null,
            "_view_module": "@jupyter-widgets/base",
            "overflow": null,
            "_model_module_version": "1.2.0",
            "_view_count": null,
            "flex_flow": null,
            "width": null,
            "min_width": null,
            "border": null,
            "align_items": null,
            "bottom": null,
            "_model_module": "@jupyter-widgets/base",
            "top": null,
            "grid_column": null,
            "overflow_y": null,
            "overflow_x": null,
            "grid_auto_flow": null,
            "grid_area": null,
            "grid_template_columns": null,
            "flex": null,
            "_model_name": "LayoutModel",
            "justify_items": null,
            "grid_row": null,
            "max_height": null,
            "align_content": null,
            "visibility": null,
            "align_self": null,
            "height": null,
            "min_height": null,
            "padding": null,
            "grid_auto_rows": null,
            "grid_gap": null,
            "max_width": null,
            "order": null,
            "_view_module_version": "1.2.0",
            "grid_template_areas": null,
            "object_position": null,
            "object_fit": null,
            "grid_auto_columns": null,
            "margin": null,
            "display": null,
            "left": null
          }
        }
      }
    }
  },
  "cells": [
    {
      "cell_type": "markdown",
      "metadata": {
        "id": "Wex1IRIw5XB3"
      },
      "source": [
        "# **Baseline Model for Multi-hop Question & Answering (Longformer + HotpotQA)**\r\n",
        "The pre-trained `allenai/longformer-large-4096-finetuned-triviaqa` model checkpoint (for single-hop QA) is taken from Hugging Face for setting the baseline for the HotpotQA data set.\r\n",
        "\r\n",
        "\r\n",
        "https://huggingface.co/allenai/longformer-large-4096-finetuned-triviaqa<br>\r\n",
        "https://hotpotqa.github.io/index.html\r\n",
        "\r\n"
      ]
    },
    {
      "cell_type": "code",
      "metadata": {
        "id": "vEKHaA6jV7u-",
        "colab": {
          "base_uri": "https://localhost:8080/"
        },
        "outputId": "e101cec8-8864-41b6-9cbd-70b0b82075cf"
      },
      "source": [
        "!pip install -q transformers==3.5.1"
      ],
      "execution_count": null,
      "outputs": [
        {
          "output_type": "stream",
          "text": [
            "\u001b[K     |████████████████████████████████| 1.3MB 6.6MB/s \n",
            "\u001b[K     |████████████████████████████████| 890kB 44.2MB/s \n",
            "\u001b[K     |████████████████████████████████| 1.1MB 41.9MB/s \n",
            "\u001b[K     |████████████████████████████████| 2.9MB 47.9MB/s \n",
            "\u001b[?25h  Building wheel for sacremoses (setup.py) ... \u001b[?25l\u001b[?25hdone\n"
          ],
          "name": "stdout"
        }
      ]
    },
    {
      "cell_type": "code",
      "metadata": {
        "id": "hEqZn8G6V-pi"
      },
      "source": [
        "import re\n",
        "import json\n",
        "import time\n",
        "import random\n",
        "import string\n",
        "import tarfile\n",
        "import numpy as np\n",
        "import pandas as pd\n",
        "import matplotlib.pyplot as plt\n",
        "from tqdm import tqdm\n",
        "from collections import Counter\n",
        "\n",
        "import tensorflow as tf\n",
        "from transformers import LongformerTokenizer, TFLongformerForQuestionAnswering"
      ],
      "execution_count": null,
      "outputs": []
    },
    {
      "cell_type": "code",
      "metadata": {
        "id": "k0CLI0pO5nG5"
      },
      "source": [
        "# Configurations\r\n",
        "MODEL = 'allenai/longformer-large-4096-finetuned-triviaqa'\r\n",
        "MAX_LEN = 512\r\n",
        "PUBLIC_ACCESS = True"
      ],
      "execution_count": null,
      "outputs": []
    },
    {
      "cell_type": "code",
      "metadata": {
        "id": "_Xj-XQjNf72C"
      },
      "source": [
        "# TAR.GZ extractor\n",
        "def extract_tar(fname):\n",
        "  tar = tarfile.open(fname, \"r:gz\")\n",
        "  tar.extractall()\n",
        "  tar.close()\n",
        "\n",
        "# Download Files\n",
        "if PUBLIC_ACCESS:\n",
        "  !gdown --id \"1pFJ0NAvMSn7C-vI-hzeSsCG7ppJGa8EV\"\n",
        "  extract_tar('HotPotQA_EM.tar.gz')\n",
        "else:\n",
        "  extract_tar('/content/drive/MyDrive/data/hotpot/HotPotQA_EM.tar.gz')"
      ],
      "execution_count": null,
      "outputs": []
    },
    {
      "cell_type": "code",
      "metadata": {
        "id": "2vdC9V33WApt"
      },
      "source": [
        "# Import Data\n",
        "with open('train_em.json') as f:\n",
        "    train_data = json.load(f)\n",
        "with open('val_em.json') as f:\n",
        "    val_data = json.load(f)"
      ],
      "execution_count": null,
      "outputs": []
    },
    {
      "cell_type": "code",
      "metadata": {
        "id": "VciEYxesAaK9",
        "colab": {
          "base_uri": "https://localhost:8080/"
        },
        "outputId": "11542c6d-e4c6-4d3b-a965-8287167350b6"
      },
      "source": [
        "# Print header\r\n",
        "train_data[0].keys()"
      ],
      "execution_count": null,
      "outputs": [
        {
          "output_type": "execute_result",
          "data": {
            "text/plain": [
              "dict_keys(['supporting_facts', 'level', 'question', 'context', 'answer', '_id', 'type'])"
            ]
          },
          "metadata": {
            "tags": []
          },
          "execution_count": 6
        }
      ]
    },
    {
      "cell_type": "code",
      "metadata": {
        "id": "LhAUqHNXA6D4",
        "colab": {
          "base_uri": "https://localhost:8080/"
        },
        "outputId": "c4b90808-58b1-4c18-ddfd-fe39dbf716af"
      },
      "source": [
        "# Print a question, context and answer triplet\r\n",
        "print(train_data[0]['question'], train_data[0]['answer'], train_data[0]['context'], sep='\\n')"
      ],
      "execution_count": null,
      "outputs": [
        {
          "output_type": "stream",
          "text": [
            "Who was once considered the best kick boxer in the world, however he has been involved in a number of controversies relating to his \"unsportsmanlike conducts\" in the sport and crimes of violence outside of the ring.\n",
            "Badr Hari\n",
            "['The 1998 Verano de Escándalo (Spanish for \"Summer of Scandal\") was the second annual \"Verano de Escandalo\" professional wrestling show promoted by AAA. The show took place on September 18, 1998, in Madero, Tamaulipas, Mexico. The main event featured steel cage match between the teams of Heavy Metal and Blue Demon Jr. and Kick Boxer and Abismo Negro. The stipulation of the main event was that if the team of Heavy Metal and Blue Demon Jr. lost referee Guicho Dominguez would be referee El Tirante\\'s \"slave\" for a week. If Kick Boxer and Abismo Negro lost El Tirantes would be Guicho Dominguez\\'s slave for a week.', 'Triplemanía VII was the seventh \"Triplemanía\" wrestling show promoted by AAA. The show took place on June 11, 1999, in Madero, Mexico. The Main event featured a Six-man \"Lucha Libre rules\" tag team match between the teams of Perro Aguayo, Octagón and El Cobarde II and El Texano, Perro Aguayo Jr. and Sangre Chicana. In the semi-main event Heavy Metal and El Felino defended the hair of their father, referee Pepe \"Tropi\" Casas while Kick Boxer and Thai Boxer defended the hair of referee El Tirantes. As a result, El Tirantes had his hair shaved off after the match.', 'A protection racket is a scheme whereby a group provides protection to businesses or other groups through violence outside the sanction of the law. Through the credible threat of violence, the racketeers deter people from swindling, robbing, injuring, sabotaging or otherwise harming their clients. Protection rackets tend to appear in markets where the police and judiciary cannot be counted on to provide legal protection, either because of incompetence (as in weak or failed states) or illegality (black markets).', 'Elwood Gordon Gee (born February 2, 1944) is an American academic and is currently serving his second term as President of West Virginia University. He has served as the chief executive at several universities in the United States, previously serving at Ohio State University. Gee had been heading an Ohio State-based think tank following his retirement from the Ohio State presidency on July 1, 2013. He retired in response to a series of controversies relating to comments he made, the last of which involved anti-Catholic comments allegedly made in jest about the University of Notre Dame. His resignation thus ended his second term as the president; he had previously served as president of Ohio State from 1990 to 1997.', 'Badr Hari (Arabic: بدر هاري\\u200e \\u200e ; born 8 December 1984) is a Moroccan-Dutch super heavyweight kickboxer from Amsterdam, fighting out of Mike\\'s Gym in Oostzaan. He is a former K-1 Heavyweight champion (2007—2008), It\\'s Showtime Heavyweight world champion (2009-2010) and \"K-1 World Grand Prix 2009\" finalist. Hari has been a prominent figure in the world of kickboxing and was once considered the best kickboxer in the world, however he has been involved in a number of controversies relating to his \"unsportsmanlike conducts\" in the sport and crimes of violence outside of the ring.', '\"Guerra de Titanes\" (1998) (\"War of the Titans\") was the second \"Guerra de Titanes\" professional wrestling show promoted by AAA. The show took place on December 13, 1998 in Chihuahua, Chihuahua, Mexico. The Main event featured a Steel Cage Match that highlighted two storyline feuds between Octagón and his \"Evil twin\" Pentagón and the feud between Heavy Metal and Kick Boxer as Octagón and Heavy Metal teamed together to take on Pentagón and Kick Boxer.', 'Global Fighting Championship (also known as GFC) was a UAE-based kickboxing and mixed martial arts (MMA) event. Fighters from around world on the roster include Badr Hari, Peter Aerts, Peter Graham, Dewey Cooper, Zabit Samedov. It was considered as one of the biggest kickboxing and MMA promotion in Middle East.<ref name=\"Emirates 24/7\"> </ref>', 'Outrageous Betrayal: The Dark Journey of Werner Erhard from est to Exile is a non-fiction book written by freelance journalist Steven Pressman and first published in 1993 by St. Martin\\'s Press. The book gives an account of Werner H. Erhard\\'s early life as Jack Rosenberg, his exploration of various forms of self-improvement techniques, and his foundation of Erhard Seminars Training \"est\" and later of Werner Erhard and Associates and of the Est successor course, \"The Forum\". Pressman details the rapid financial success Erhard had with these companies, as well as controversies relating to litigation involving former participants in his courses. The work concludes by going over the impact of a March 3, 1991 \"60 Minutes\" broadcast on CBS where members of Erhard\\'s family made allegations against him, and Erhard\\'s decision to leave the United States.', 'Cricket has had a number of controversies relating to players being involved with the betting aspects of the game. In particular, numerous players have been approached by bookmakers and bribed to throw matches, aspects of matches (e.g. the toss) or provide other information.', 'Prosecution of gender-targeted crimes is the legal proceedings to prosecute crimes such as rape and domestic violence. The earliest documented prosecution of gender-based/targeted crimes is from 1474 when Sir Peter von Hagenbach was convicted for rapes committed by his troops. However, the trial was unsuccessful in indicting Sir von Hagenbach with the charge of rape because the war in which the rapes occurred was \"undeclared\" and thus the rapes were only considered illegal. Gender-targeted crimes continued to be prosecuted, but it was not until after World War II when an international criminal tribunal- the International Military Tribunal for the Far East (Tokyo Tribunal)- were officers charged for being responsible of the gender-targeted crimes (particularly rape) and other crimes against humanity. Despite the various rape charges, the Charter of the Tokyo Tribunal did not make references to rape, and rape was considered as subordinate to other war crimes. This is also the situation for other tribunals that followed, but with the establishments of the International Criminal Tribunal for the former Yugoslavia (ICTY) and the International Criminal Tribunal for Rwanda (ICTR), there was more attention to the prosecution of gender-targeted crimes with each of the statutes explicitly referring to rape and other forms of gender-targeted violence.']\n"
          ],
          "name": "stdout"
        }
      ]
    },
    {
      "cell_type": "code",
      "metadata": {
        "id": "9JE610EBWDnz"
      },
      "source": [
        "# Convert JSON to DF\n",
        "df_train = pd.DataFrame(train_data)\n",
        "df_val = pd.DataFrame(val_data)"
      ],
      "execution_count": null,
      "outputs": []
    },
    {
      "cell_type": "code",
      "metadata": {
        "id": "zp2oWwRpWFzP"
      },
      "source": [
        "# Converts list of sentences to paragraph string\n",
        "def paragraph_maker(context):\n",
        "    # context = []\n",
        "    # for i in x:\n",
        "    #     context.append(''.join(i))\n",
        "    context = ' '.join(context)\n",
        "    return context\n",
        "\n",
        "# Apply paragraph maker\n",
        "df_train['text'] = df_train['context'].apply(paragraph_maker)\n",
        "df_val['text'] = df_val['context'].apply(paragraph_maker)"
      ],
      "execution_count": null,
      "outputs": []
    },
    {
      "cell_type": "code",
      "metadata": {
        "id": "u0TQkm1fgSPD",
        "colab": {
          "base_uri": "https://localhost:8080/",
          "height": 371
        },
        "outputId": "a870da9e-b503-4ce8-a673-fdb4c9e375bd"
      },
      "source": [
        "# Print head\r\n",
        "df_train.head(3)"
      ],
      "execution_count": null,
      "outputs": [
        {
          "output_type": "execute_result",
          "data": {
            "text/html": [
              "<div>\n",
              "<style scoped>\n",
              "    .dataframe tbody tr th:only-of-type {\n",
              "        vertical-align: middle;\n",
              "    }\n",
              "\n",
              "    .dataframe tbody tr th {\n",
              "        vertical-align: top;\n",
              "    }\n",
              "\n",
              "    .dataframe thead th {\n",
              "        text-align: right;\n",
              "    }\n",
              "</style>\n",
              "<table border=\"1\" class=\"dataframe\">\n",
              "  <thead>\n",
              "    <tr style=\"text-align: right;\">\n",
              "      <th></th>\n",
              "      <th>supporting_facts</th>\n",
              "      <th>level</th>\n",
              "      <th>question</th>\n",
              "      <th>context</th>\n",
              "      <th>answer</th>\n",
              "      <th>_id</th>\n",
              "      <th>type</th>\n",
              "      <th>text</th>\n",
              "    </tr>\n",
              "  </thead>\n",
              "  <tbody>\n",
              "    <tr>\n",
              "      <th>0</th>\n",
              "      <td>[[Global Fighting Championship, 1], [Global Fi...</td>\n",
              "      <td>easy</td>\n",
              "      <td>Who was once considered the best kick boxer in...</td>\n",
              "      <td>[The 1998 Verano de Escándalo (Spanish for \"Su...</td>\n",
              "      <td>Badr Hari</td>\n",
              "      <td>5a832c3455429954d2e2ec41</td>\n",
              "      <td>bridge</td>\n",
              "      <td>The 1998 Verano de Escándalo (Spanish for \"Sum...</td>\n",
              "    </tr>\n",
              "    <tr>\n",
              "      <th>1</th>\n",
              "      <td>[[Malcolm Smith (American football), 3], [Supe...</td>\n",
              "      <td>easy</td>\n",
              "      <td>In which American football game was Malcolm Sm...</td>\n",
              "      <td>[Winston Lagoon ( ) is a lagoon indenting the ...</td>\n",
              "      <td>Super Bowl XLVIII</td>\n",
              "      <td>5ade025e5542997dc790711e</td>\n",
              "      <td>bridge</td>\n",
              "      <td>Winston Lagoon ( ) is a lagoon indenting the s...</td>\n",
              "    </tr>\n",
              "    <tr>\n",
              "      <th>2</th>\n",
              "      <td>[[Hurt Locker (musical), 3], [Metallica, 2]]</td>\n",
              "      <td>easy</td>\n",
              "      <td>What are the names of the current members of  ...</td>\n",
              "      <td>[Joseph \"Joey\" Vera (born April 24, 1963) is a...</td>\n",
              "      <td>Hetfield and Ulrich, longtime lead guitarist K...</td>\n",
              "      <td>5ac2a5d455429921a00ab01b</td>\n",
              "      <td>bridge</td>\n",
              "      <td>Joseph \"Joey\" Vera (born April 24, 1963) is an...</td>\n",
              "    </tr>\n",
              "  </tbody>\n",
              "</table>\n",
              "</div>"
            ],
            "text/plain": [
              "                                    supporting_facts  ...                                               text\n",
              "0  [[Global Fighting Championship, 1], [Global Fi...  ...  The 1998 Verano de Escándalo (Spanish for \"Sum...\n",
              "1  [[Malcolm Smith (American football), 3], [Supe...  ...  Winston Lagoon ( ) is a lagoon indenting the s...\n",
              "2       [[Hurt Locker (musical), 3], [Metallica, 2]]  ...  Joseph \"Joey\" Vera (born April 24, 1963) is an...\n",
              "\n",
              "[3 rows x 8 columns]"
            ]
          },
          "metadata": {
            "tags": []
          },
          "execution_count": 10
        }
      ]
    },
    {
      "cell_type": "code",
      "metadata": {
        "id": "J3T7wCC-v_Gr"
      },
      "source": [
        "# Divide data according to difficulty levels\r\n",
        "df_val_easy = df_val.loc[df_val['level'] == 'easy']\r\n",
        "df_val_medium = df_val.loc[df_val['level'] == 'medium']\r\n",
        "df_val_hard = df_val.loc[df_val['level'] == 'hard']"
      ],
      "execution_count": null,
      "outputs": []
    },
    {
      "cell_type": "markdown",
      "metadata": {
        "id": "8vJjivL9YAxm"
      },
      "source": [
        "## Plot Token Count Distribution"
      ]
    },
    {
      "cell_type": "code",
      "metadata": {
        "id": "MqiO1p3CX7Q1"
      },
      "source": [
        "# Extract number of tokens per doc\r\n",
        "sizes = []\r\n",
        "for i in df_train['text'].to_list()+df_val['text'].to_list():\r\n",
        "    sizes.append(len(i.split()))\r\n",
        "sort_size = sorted(sizes)"
      ],
      "execution_count": null,
      "outputs": []
    },
    {
      "cell_type": "code",
      "metadata": {
        "colab": {
          "base_uri": "https://localhost:8080/",
          "height": 530
        },
        "id": "Xff6vLZVsP4-",
        "outputId": "fbca8d35-1016-4107-e3f1-9dc651c72ac6"
      },
      "source": [
        "# Plot token distribution\r\n",
        "plt.figure(figsize=(12,8))\r\n",
        "plt.title('Token Distribution for Context')\r\n",
        "plt.xlabel('Sample IDs sorted in increasing order of token counts')\r\n",
        "plt.ylabel('Token Counts')\r\n",
        "plt.plot(sort_size)"
      ],
      "execution_count": null,
      "outputs": [
        {
          "output_type": "execute_result",
          "data": {
            "text/plain": [
              "[<matplotlib.lines.Line2D at 0x7f20d0290eb8>]"
            ]
          },
          "metadata": {
            "tags": []
          },
          "execution_count": 13
        },
        {
          "output_type": "display_data",
          "data": {
            "image/png": "[encoded data removed]",
            "text/plain": [
              "<Figure size 864x576 with 1 Axes>"
            ]
          },
          "metadata": {
            "tags": [],
            "needs_background": "light"
          }
        }
      ]
    },
    {
      "cell_type": "markdown",
      "metadata": {
        "id": "NlfKawySbzg_"
      },
      "source": [
        "## Pre-trained Longformer"
      ]
    },
    {
      "cell_type": "code",
      "metadata": {
        "id": "GewUQNGmXgbX",
        "colab": {
          "base_uri": "https://localhost:8080/",
          "height": 299,
          "referenced_widgets": [
            "456917722feb48ffb70efc6f9c7dfa8d",
            "29e94a85c6394b16bef62bd8df420b89",
            "01efbe5bf0b84a719009704bacabea99",
            "cfc2ea0c844844a99144fb51309d9202",
            "c366ea47fba34e69878f2c558f07644d",
            "0778b579b9434f6cb82ca9f90f724a84",
            "b9a0bd38b6264931a4c2becd653eba3b",
            "800a63a0c7e0464aafa59e79e7935629",
            "9e028da679ae4afa866ee4906f14ab45",
            "b8b7ce2bd34f41639eaa3b65227161ac",
            "03307a4b8697449db6d18586f079958f",
            "374ca460269e48978b58dcd12e70044a",
            "aeae0ed926fd4661bb79d308ae54e11f",
            "3730d32607994f6d9be5e0c690cacbc9",
            "ee60d90a1a1e4c06a31a1eb4fc7ad9c0",
            "6b66b691b4a64093bdc6c4908fe099bc",
            "8096a5420a304b6ab481e7d4ed22c791",
            "2c2e4b9950714b539c66db23557b285a",
            "0af11ff556d04cef93f4a90ba03e67da",
            "45f52ef34926466bbfdfdbd36a87f3b5",
            "bb25439fe2e1434797271355f5cde0b9",
            "ebfcdfaf324d46c6a9f8d82a58938946",
            "3d5eadb90f30454380cdb5c1a047064c",
            "7c0d3f06cb4c47609a9ab24728e24099",
            "6471f6f5aa1844ebbabe4c88ce378fdc",
            "c732486b3d3b4f70a107a25848c0af73",
            "b6d29ff796d2480d81e68bc26054621f",
            "db2ce69de65e4fb8aee2f8d351d1fac5",
            "69d73633ebdd4e2391c226c899a579e0",
            "543fee398c2047bf9b270e3aae40f39b",
            "92350f8509184e15b56b8ce9ac772850",
            "cae7d6ed415d4ae5b893ebdee24fb7c7"
          ]
        },
        "outputId": "c270b43a-5f05-4aff-e779-89ed2ba7ae76"
      },
      "source": [
        "# Import tokenizer and model\n",
        "tokenizer = LongformerTokenizer.from_pretrained(MODEL)\n",
        "model = TFLongformerForQuestionAnswering.from_pretrained(MODEL)"
      ],
      "execution_count": null,
      "outputs": [
        {
          "output_type": "display_data",
          "data": {
            "application/vnd.jupyter.widget-view+json": {
              "model_id": "456917722feb48ffb70efc6f9c7dfa8d",
              "version_minor": 0,
              "version_major": 2
            },
            "text/plain": [
              "HBox(children=(FloatProgress(value=0.0, description='Downloading', max=898823.0, style=ProgressStyle(descripti…"
            ]
          },
          "metadata": {
            "tags": []
          }
        },
        {
          "output_type": "stream",
          "text": [
            "\n"
          ],
          "name": "stdout"
        },
        {
          "output_type": "display_data",
          "data": {
            "application/vnd.jupyter.widget-view+json": {
              "model_id": "9e028da679ae4afa866ee4906f14ab45",
              "version_minor": 0,
              "version_major": 2
            },
            "text/plain": [
              "HBox(children=(FloatProgress(value=0.0, description='Downloading', max=456318.0, style=ProgressStyle(descripti…"
            ]
          },
          "metadata": {
            "tags": []
          }
        },
        {
          "output_type": "stream",
          "text": [
            "\n"
          ],
          "name": "stdout"
        },
        {
          "output_type": "display_data",
          "data": {
            "application/vnd.jupyter.widget-view+json": {
              "model_id": "8096a5420a304b6ab481e7d4ed22c791",
              "version_minor": 0,
              "version_major": 2
            },
            "text/plain": [
              "HBox(children=(FloatProgress(value=0.0, description='Downloading', max=866.0, style=ProgressStyle(description_…"
            ]
          },
          "metadata": {
            "tags": []
          }
        },
        {
          "output_type": "stream",
          "text": [
            "\n"
          ],
          "name": "stdout"
        },
        {
          "output_type": "display_data",
          "data": {
            "application/vnd.jupyter.widget-view+json": {
              "model_id": "6471f6f5aa1844ebbabe4c88ce378fdc",
              "version_minor": 0,
              "version_major": 2
            },
            "text/plain": [
              "HBox(children=(FloatProgress(value=0.0, description='Downloading', max=1739063632.0, style=ProgressStyle(descr…"
            ]
          },
          "metadata": {
            "tags": []
          }
        },
        {
          "output_type": "stream",
          "text": [
            "\n"
          ],
          "name": "stdout"
        },
        {
          "output_type": "stream",
          "text": [
            "All model checkpoint layers were used when initializing TFLongformerForQuestionAnswering.\n",
            "\n",
            "All the layers of TFLongformerForQuestionAnswering were initialized from the model checkpoint at allenai/longformer-large-4096-finetuned-triviaqa.\n",
            "If your task is similar to the task the model of the checkpoint was trained on, you can already use TFLongformerForQuestionAnswering for predictions without further training.\n"
          ],
          "name": "stderr"
        }
      ]
    },
    {
      "cell_type": "code",
      "metadata": {
        "id": "pjUXWrdWxDQV"
      },
      "source": [
        "# Funtion to generate answer for a question and text string\r\n",
        "def get_answer(question, text):\r\n",
        "    inputs = tokenizer.encode_plus(question, text, return_tensors='tf', max_length=MAX_LEN, truncation=True)\r\n",
        "    input_ids = inputs[\"input_ids\"].numpy().tolist()\r\n",
        "    start_scores, end_scores = model(inputs)\r\n",
        "\r\n",
        "    start = tf.math.argmax(start_scores, axis=1).numpy()[0]\r\n",
        "    end = tf.math.argmax(end_scores, axis=1).numpy()[0]\r\n",
        "    \r\n",
        "    all_tokens = tokenizer.convert_ids_to_tokens(input_ids[0])\r\n",
        "    answer = ''.join(all_tokens[start: end + 1]).replace('▁', ' ').strip()\r\n",
        "    answer = answer.replace('[SEP]', '')\r\n",
        "    return answer if ('[CLS]' not in answer) and (len(answer) != 0) else ''"
      ],
      "execution_count": null,
      "outputs": []
    },
    {
      "cell_type": "code",
      "metadata": {
        "id": "CHw1RSt5ZU9R",
        "colab": {
          "base_uri": "https://localhost:8080/"
        },
        "outputId": "b7b789ae-26ad-4c28-e4f9-f035f92ba9b0"
      },
      "source": [
        "# Print an example inference from model\r\n",
        "id = 1\r\n",
        "print(get_answer(df_val['question'].iloc[id], df_val['text'].iloc[id]))\r\n",
        "print(df_val['answer'].iloc[id])"
      ],
      "execution_count": null,
      "outputs": [
        {
          "output_type": "stream",
          "text": [
            "Ġpoets\n",
            "poet\n"
          ],
          "name": "stdout"
        }
      ]
    },
    {
      "cell_type": "markdown",
      "metadata": {
        "id": "4QdzR4TDb9hb"
      },
      "source": [
        "## Answer Prediction"
      ]
    },
    {
      "cell_type": "code",
      "metadata": {
        "id": "pn26UFIPcPj1"
      },
      "source": [
        "# Predict answer for a DF with columns 'question' and 'paragraphs'\n",
        "def predict_answers(df):\n",
        "    pred_answers = []\n",
        "    cnt_ans_found = 0\n",
        "    for i in tqdm(range(len(df))):\n",
        "        a = ''\n",
        "        try:\n",
        "            a = get_answer(df['question'].iloc[i], df['text'].iloc[i])\n",
        "            if a != '':\n",
        "                cnt_ans_found += 1\n",
        "        except:\n",
        "            print(f'Error in iteration {i}')\n",
        "        pred_answers.append(a)\n",
        "    return pred_answers, cnt_ans_found"
      ],
      "execution_count": null,
      "outputs": []
    },
    {
      "cell_type": "code",
      "metadata": {
        "id": "03v6CUbGcHWU",
        "colab": {
          "base_uri": "https://localhost:8080/"
        },
        "outputId": "7a350f14-f9db-4c64-fe52-ed4180489db2"
      },
      "source": [
        "# Easy Predictions\n",
        "t0 = time.time()\n",
        "pred_answers_easy, cnt_ans_found_easy = predict_answers(df_val_easy)"
      ],
      "execution_count": null,
      "outputs": [
        {
          "output_type": "stream",
          "text": [
            "100%|██████████| 1797/1797 [37:01<00:00,  1.24s/it]\n"
          ],
          "name": "stderr"
        }
      ]
    },
    {
      "cell_type": "code",
      "metadata": {
        "id": "sO-F4xUId17U",
        "colab": {
          "base_uri": "https://localhost:8080/"
        },
        "outputId": "f8aad42c-21c0-43b1-f67c-485164215473"
      },
      "source": [
        "# Medium Predictions\n",
        "t0 = time.time()\n",
        "pred_answers_medium, cnt_ans_found_medium = predict_answers(df_val_medium)"
      ],
      "execution_count": null,
      "outputs": [
        {
          "output_type": "stream",
          "text": [
            "100%|██████████| 5681/5681 [1:52:55<00:00,  1.19s/it]\n"
          ],
          "name": "stderr"
        }
      ]
    },
    {
      "cell_type": "code",
      "metadata": {
        "id": "PAHYkOMgxe_H",
        "colab": {
          "base_uri": "https://localhost:8080/"
        },
        "outputId": "b2b3b649-044e-44bd-f6b6-8f75e1224c0a"
      },
      "source": [
        "# Hard Predictions\n",
        "t0 = time.time()\n",
        "pred_answers_hard, cnt_ans_found_hard = predict_answers(df_val_hard)"
      ],
      "execution_count": null,
      "outputs": [
        {
          "output_type": "stream",
          "text": [
            "0it [00:00, ?it/s]\n"
          ],
          "name": "stderr"
        }
      ]
    },
    {
      "cell_type": "code",
      "metadata": {
        "id": "X4nixLgKtJGM",
        "colab": {
          "base_uri": "https://localhost:8080/"
        },
        "outputId": "4b1a5ce7-8bff-4e74-913c-4724932393ef"
      },
      "source": [
        "print(f'Easy Questions Answered {cnt_ans_found_easy} / {len(df_val_easy)}')"
      ],
      "execution_count": null,
      "outputs": [
        {
          "output_type": "stream",
          "text": [
            "Easy Questions Answered 1674 / 1797\n"
          ],
          "name": "stdout"
        }
      ]
    },
    {
      "cell_type": "code",
      "metadata": {
        "id": "qoDaeZzud2Jg",
        "colab": {
          "base_uri": "https://localhost:8080/"
        },
        "outputId": "74f68b3a-f88d-487f-968e-7713c94c03b9"
      },
      "source": [
        "print(f'Medium Questions Answered {cnt_ans_found_medium} / {len(df_val_medium)}')"
      ],
      "execution_count": null,
      "outputs": [
        {
          "output_type": "stream",
          "text": [
            "Medium Questions Answered 5297 / 5681\n"
          ],
          "name": "stdout"
        }
      ]
    },
    {
      "cell_type": "code",
      "metadata": {
        "id": "VUx2pWy6xrza",
        "colab": {
          "base_uri": "https://localhost:8080/"
        },
        "outputId": "454ff15c-1c31-407a-eeee-7862dd7ca032"
      },
      "source": [
        "print(f'Hard Questions Answered {cnt_ans_found_hard} / {len(df_val_hard)}')"
      ],
      "execution_count": null,
      "outputs": [
        {
          "output_type": "stream",
          "text": [
            "Hard Questions Answered 0 / 0\n"
          ],
          "name": "stdout"
        }
      ]
    },
    {
      "cell_type": "markdown",
      "metadata": {
        "id": "EFXGM_CGEYX5"
      },
      "source": [
        "## Evaluation"
      ]
    },
    {
      "cell_type": "code",
      "metadata": {
        "id": "yZmMHo1sEaVx"
      },
      "source": [
        "# Evaluation functions taken from HotpotQA\n",
        "def normalize_answer(s):\n",
        "\n",
        "    def remove_articles(text):\n",
        "        return re.sub(r'\\b(a|an|the)\\b', ' ', text)\n",
        "\n",
        "    def white_space_fix(text):\n",
        "        return ' '.join(text.split())\n",
        "\n",
        "    def remove_punc(text):\n",
        "        exclude = set(string.punctuation)\n",
        "        return ''.join(ch for ch in text if ch not in exclude)\n",
        "\n",
        "    def lower(text):\n",
        "        return text.lower()\n",
        "\n",
        "    return white_space_fix(remove_articles(remove_punc(lower(s))))\n",
        "\n",
        "# Exact Match score\n",
        "def exact_match_score(prediction, ground_truth):\n",
        "    return (normalize_answer(prediction) == normalize_answer(ground_truth))\n",
        "\n",
        "# FPR metrics\n",
        "def f1_score(prediction, ground_truth):\n",
        "    normalized_prediction = normalize_answer(prediction)\n",
        "    normalized_ground_truth = normalize_answer(ground_truth)\n",
        "\n",
        "    ZERO_METRIC = (0, 0, 0)\n",
        "\n",
        "    if normalized_prediction in ['yes', 'no', 'noanswer'] and normalized_prediction != normalized_ground_truth:\n",
        "        return ZERO_METRIC\n",
        "    if normalized_ground_truth in ['yes', 'no', 'noanswer'] and normalized_prediction != normalized_ground_truth:\n",
        "        return ZERO_METRIC\n",
        "\n",
        "    prediction_tokens = normalized_prediction.split()\n",
        "    ground_truth_tokens = normalized_ground_truth.split()\n",
        "    common = Counter(prediction_tokens) & Counter(ground_truth_tokens)\n",
        "    num_same = sum(common.values())\n",
        "    if num_same == 0:\n",
        "        return ZERO_METRIC\n",
        "    precision = 1.0 * num_same / len(prediction_tokens)\n",
        "    recall = 1.0 * num_same / len(ground_truth_tokens)\n",
        "    f1 = (2 * precision * recall) / (precision + recall)\n",
        "    return f1, precision, recall"
      ],
      "execution_count": null,
      "outputs": []
    },
    {
      "cell_type": "code",
      "metadata": {
        "id": "ALC5Gt4LuQ0z"
      },
      "source": [
        "# Normalize the predictions by removing the seperator\n",
        "pred_answers_easy_n = [' '.join(i.split('Ġ')) for i in pred_answers_easy]\n",
        "pred_answers_medium_n = [' '.join(i.split('Ġ')) for i in pred_answers_medium]\n",
        "pred_answers_hard_n = [' '.join(i.split('Ġ')) for i in pred_answers_hard]"
      ],
      "execution_count": null,
      "outputs": []
    },
    {
      "cell_type": "code",
      "metadata": {
        "id": "2yoPoKNnso90"
      },
      "source": [
        "# Create a list of true answers for easy and medium\n",
        "true_answers_easy = df_val_easy['answer'].to_list()\n",
        "true_answers_medium = df_val_medium['answer'].to_list()\n",
        "true_answers_hard = df_val_hard['answer'].to_list()"
      ],
      "execution_count": null,
      "outputs": []
    },
    {
      "cell_type": "code",
      "metadata": {
        "id": "U2TqUTs4r3BT"
      },
      "source": [
        "# Calculate F1 and exact match score EM for each document in both easy and medium sets\n",
        "f1_easy = []\n",
        "em_easy = []\n",
        "f1_medium = []\n",
        "em_medium = []\n",
        "f1_hard = []\n",
        "em_hard = []\n",
        "\n",
        "# Easy\n",
        "for i in range(len(pred_answers_easy_n)):\n",
        "    f1_easy.append(f1_score(pred_answers_easy_n[i], true_answers_easy[i])[0])\n",
        "    em_easy.append(exact_match_score(pred_answers_easy_n[i], true_answers_easy[i]))\n",
        "\n",
        "# Medium\n",
        "for i in range(len(pred_answers_medium_n)):\n",
        "    f1_medium.append(f1_score(pred_answers_medium_n[i], true_answers_medium[i])[0])\n",
        "    em_medium.append(exact_match_score(pred_answers_medium_n[i], true_answers_medium[i]))\n",
        "\n",
        "# Hard\n",
        "for i in range(len(pred_answers_hard_n)):\n",
        "    f1_hard.append(f1_score(pred_answers_hard_n[i], true_answers_hard[i])[0])\n",
        "    em_hard.append(exact_match_score(pred_answers_hard_n[i], true_answers_hard[i]))"
      ],
      "execution_count": null,
      "outputs": []
    },
    {
      "cell_type": "code",
      "metadata": {
        "id": "Me0s9_tPsfJT",
        "colab": {
          "base_uri": "https://localhost:8080/"
        },
        "outputId": "d1dd0908-dfb6-48d4-cf53-f21d62608801"
      },
      "source": [
        "# Baseline scores\n",
        "print(f\"Overall Mean F1: {np.mean(f1_easy+f1_medium+f1_hard)}\")\n",
        "print(f\"Overall Mean EM: {np.mean(em_easy+em_medium+em_hard)}\")\n",
        "\n",
        "print(f\"Easy Mean F1: {np.mean(f1_easy)}\")\n",
        "print(f\"Easy Mean EM: {np.mean(em_easy)}\")\n",
        "\n",
        "print(f\"Medium Mean F1: {np.mean(f1_medium)}\")\n",
        "print(f\"Medium Mean EM: {np.mean(em_medium)}\")\n",
        "\n",
        "# print(f\"Hard Mean F1: {np.mean(f1_hard)}\")\n",
        "# print(f\"Hard Mean EM: {np.mean(em_hard)}\")"
      ],
      "execution_count": null,
      "outputs": [
        {
          "output_type": "stream",
          "text": [
            "Overall Mean F1: 0.33522232311264094\n",
            "Overall Mean EM: 0.2713292324150842\n",
            "Easy Mean F1: 0.3949259480218869\n",
            "Easy Mean EM: 0.3099610461880913\n",
            "Medium Mean F1: 0.31633701877151876\n",
            "Medium Mean EM: 0.2591093117408907\n"
          ],
          "name": "stdout"
        }
      ]
    }
  ]
}