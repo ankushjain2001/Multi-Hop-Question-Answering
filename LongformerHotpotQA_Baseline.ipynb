{
  "nbformat": 4,
  "nbformat_minor": 0,
  "metadata": {
    "colab": {
      "name": "Baseline_Inference_LongformerHotpotQA.ipynb",
      "provenance": [],
      "collapsed_sections": [],
      "toc_visible": true
    },
    "kernelspec": {
      "name": "python3",
      "display_name": "Python 3"
    },
    "accelerator": "GPU",
    "widgets": {
      "application/vnd.jupyter.widget-state+json": {
        "e1a76081aea746538ea69d4f4b787614": {
          "model_module": "@jupyter-widgets/controls",
          "model_name": "HBoxModel",
          "state": {
            "_view_name": "HBoxView",
            "_dom_classes": [],
            "_model_name": "HBoxModel",
            "_view_module": "@jupyter-widgets/controls",
            "_model_module_version": "1.5.0",
            "_view_count": null,
            "_view_module_version": "1.5.0",
            "box_style": "",
            "layout": "IPY_MODEL_66ce91fe4ce14eebad559ec6b637acd8",
            "_model_module": "@jupyter-widgets/controls",
            "children": [
              "IPY_MODEL_f52f1ce5869c42998181613e178eb563",
              "IPY_MODEL_ee8b154d6c9e4dad95fee4e15203be1a"
            ]
          }
        },
        "66ce91fe4ce14eebad559ec6b637acd8": {
          "model_module": "@jupyter-widgets/base",
          "model_name": "LayoutModel",
          "state": {
            "_view_name": "LayoutView",
            "grid_template_rows": null,
            "right": null,
            "justify_content": null,
            "_view_module": "@jupyter-widgets/base",
            "overflow": null,
            "_model_module_version": "1.2.0",
            "_view_count": null,
            "flex_flow": null,
            "width": null,
            "min_width": null,
            "border": null,
            "align_items": null,
            "bottom": null,
            "_model_module": "@jupyter-widgets/base",
            "top": null,
            "grid_column": null,
            "overflow_y": null,
            "overflow_x": null,
            "grid_auto_flow": null,
            "grid_area": null,
            "grid_template_columns": null,
            "flex": null,
            "_model_name": "LayoutModel",
            "justify_items": null,
            "grid_row": null,
            "max_height": null,
            "align_content": null,
            "visibility": null,
            "align_self": null,
            "height": null,
            "min_height": null,
            "padding": null,
            "grid_auto_rows": null,
            "grid_gap": null,
            "max_width": null,
            "order": null,
            "_view_module_version": "1.2.0",
            "grid_template_areas": null,
            "object_position": null,
            "object_fit": null,
            "grid_auto_columns": null,
            "margin": null,
            "display": null,
            "left": null
          }
        },
        "f52f1ce5869c42998181613e178eb563": {
          "model_module": "@jupyter-widgets/controls",
          "model_name": "FloatProgressModel",
          "state": {
            "_view_name": "ProgressView",
            "style": "IPY_MODEL_2d82458910d442ecb4408f10c906a34f",
            "_dom_classes": [],
            "description": "Downloading: 100%",
            "_model_name": "FloatProgressModel",
            "bar_style": "success",
            "max": 898823,
            "_view_module": "@jupyter-widgets/controls",
            "_model_module_version": "1.5.0",
            "value": 898823,
            "_view_count": null,
            "_view_module_version": "1.5.0",
            "orientation": "horizontal",
            "min": 0,
            "description_tooltip": null,
            "_model_module": "@jupyter-widgets/controls",
            "layout": "IPY_MODEL_c729425ec35e49c0920459155c59e211"
          }
        },
        "ee8b154d6c9e4dad95fee4e15203be1a": {
          "model_module": "@jupyter-widgets/controls",
          "model_name": "HTMLModel",
          "state": {
            "_view_name": "HTMLView",
            "style": "IPY_MODEL_1ac0156886f24c0fb6fbf7fc5258265c",
            "_dom_classes": [],
            "description": "",
            "_model_name": "HTMLModel",
            "placeholder": "​",
            "_view_module": "@jupyter-widgets/controls",
            "_model_module_version": "1.5.0",
            "value": " 899k/899k [00:00&lt;00:00, 4.22MB/s]",
            "_view_count": null,
            "_view_module_version": "1.5.0",
            "description_tooltip": null,
            "_model_module": "@jupyter-widgets/controls",
            "layout": "IPY_MODEL_b3436f51426c4d108b47e234f372a478"
          }
        },
        "2d82458910d442ecb4408f10c906a34f": {
          "model_module": "@jupyter-widgets/controls",
          "model_name": "ProgressStyleModel",
          "state": {
            "_view_name": "StyleView",
            "_model_name": "ProgressStyleModel",
            "description_width": "initial",
            "_view_module": "@jupyter-widgets/base",
            "_model_module_version": "1.5.0",
            "_view_count": null,
            "_view_module_version": "1.2.0",
            "bar_color": null,
            "_model_module": "@jupyter-widgets/controls"
          }
        },
        "c729425ec35e49c0920459155c59e211": {
          "model_module": "@jupyter-widgets/base",
          "model_name": "LayoutModel",
          "state": {
            "_view_name": "LayoutView",
            "grid_template_rows": null,
            "right": null,
            "justify_content": null,
            "_view_module": "@jupyter-widgets/base",
            "overflow": null,
            "_model_module_version": "1.2.0",
            "_view_count": null,
            "flex_flow": null,
            "width": null,
            "min_width": null,
            "border": null,
            "align_items": null,
            "bottom": null,
            "_model_module": "@jupyter-widgets/base",
            "top": null,
            "grid_column": null,
            "overflow_y": null,
            "overflow_x": null,
            "grid_auto_flow": null,
            "grid_area": null,
            "grid_template_columns": null,
            "flex": null,
            "_model_name": "LayoutModel",
            "justify_items": null,
            "grid_row": null,
            "max_height": null,
            "align_content": null,
            "visibility": null,
            "align_self": null,
            "height": null,
            "min_height": null,
            "padding": null,
            "grid_auto_rows": null,
            "grid_gap": null,
            "max_width": null,
            "order": null,
            "_view_module_version": "1.2.0",
            "grid_template_areas": null,
            "object_position": null,
            "object_fit": null,
            "grid_auto_columns": null,
            "margin": null,
            "display": null,
            "left": null
          }
        },
        "1ac0156886f24c0fb6fbf7fc5258265c": {
          "model_module": "@jupyter-widgets/controls",
          "model_name": "DescriptionStyleModel",
          "state": {
            "_view_name": "StyleView",
            "_model_name": "DescriptionStyleModel",
            "description_width": "",
            "_view_module": "@jupyter-widgets/base",
            "_model_module_version": "1.5.0",
            "_view_count": null,
            "_view_module_version": "1.2.0",
            "_model_module": "@jupyter-widgets/controls"
          }
        },
        "b3436f51426c4d108b47e234f372a478": {
          "model_module": "@jupyter-widgets/base",
          "model_name": "LayoutModel",
          "state": {
            "_view_name": "LayoutView",
            "grid_template_rows": null,
            "right": null,
            "justify_content": null,
            "_view_module": "@jupyter-widgets/base",
            "overflow": null,
            "_model_module_version": "1.2.0",
            "_view_count": null,
            "flex_flow": null,
            "width": null,
            "min_width": null,
            "border": null,
            "align_items": null,
            "bottom": null,
            "_model_module": "@jupyter-widgets/base",
            "top": null,
            "grid_column": null,
            "overflow_y": null,
            "overflow_x": null,
            "grid_auto_flow": null,
            "grid_area": null,
            "grid_template_columns": null,
            "flex": null,
            "_model_name": "LayoutModel",
            "justify_items": null,
            "grid_row": null,
            "max_height": null,
            "align_content": null,
            "visibility": null,
            "align_self": null,
            "height": null,
            "min_height": null,
            "padding": null,
            "grid_auto_rows": null,
            "grid_gap": null,
            "max_width": null,
            "order": null,
            "_view_module_version": "1.2.0",
            "grid_template_areas": null,
            "object_position": null,
            "object_fit": null,
            "grid_auto_columns": null,
            "margin": null,
            "display": null,
            "left": null
          }
        },
        "631f420f4fdb438c9b1f72f14b2af1ad": {
          "model_module": "@jupyter-widgets/controls",
          "model_name": "HBoxModel",
          "state": {
            "_view_name": "HBoxView",
            "_dom_classes": [],
            "_model_name": "HBoxModel",
            "_view_module": "@jupyter-widgets/controls",
            "_model_module_version": "1.5.0",
            "_view_count": null,
            "_view_module_version": "1.5.0",
            "box_style": "",
            "layout": "IPY_MODEL_9b7a5d7c0eae4e5fb3a64fd670e96576",
            "_model_module": "@jupyter-widgets/controls",
            "children": [
              "IPY_MODEL_7d0431a261e5447dbe3940339cca5495",
              "IPY_MODEL_7464e0123eb940dfa05356c7a8b70af1"
            ]
          }
        },
        "9b7a5d7c0eae4e5fb3a64fd670e96576": {
          "model_module": "@jupyter-widgets/base",
          "model_name": "LayoutModel",
          "state": {
            "_view_name": "LayoutView",
            "grid_template_rows": null,
            "right": null,
            "justify_content": null,
            "_view_module": "@jupyter-widgets/base",
            "overflow": null,
            "_model_module_version": "1.2.0",
            "_view_count": null,
            "flex_flow": null,
            "width": null,
            "min_width": null,
            "border": null,
            "align_items": null,
            "bottom": null,
            "_model_module": "@jupyter-widgets/base",
            "top": null,
            "grid_column": null,
            "overflow_y": null,
            "overflow_x": null,
            "grid_auto_flow": null,
            "grid_area": null,
            "grid_template_columns": null,
            "flex": null,
            "_model_name": "LayoutModel",
            "justify_items": null,
            "grid_row": null,
            "max_height": null,
            "align_content": null,
            "visibility": null,
            "align_self": null,
            "height": null,
            "min_height": null,
            "padding": null,
            "grid_auto_rows": null,
            "grid_gap": null,
            "max_width": null,
            "order": null,
            "_view_module_version": "1.2.0",
            "grid_template_areas": null,
            "object_position": null,
            "object_fit": null,
            "grid_auto_columns": null,
            "margin": null,
            "display": null,
            "left": null
          }
        },
        "7d0431a261e5447dbe3940339cca5495": {
          "model_module": "@jupyter-widgets/controls",
          "model_name": "FloatProgressModel",
          "state": {
            "_view_name": "ProgressView",
            "style": "IPY_MODEL_35ff544a0ec64e8fbf915499d5dfafac",
            "_dom_classes": [],
            "description": "Downloading: 100%",
            "_model_name": "FloatProgressModel",
            "bar_style": "success",
            "max": 456318,
            "_view_module": "@jupyter-widgets/controls",
            "_model_module_version": "1.5.0",
            "value": 456318,
            "_view_count": null,
            "_view_module_version": "1.5.0",
            "orientation": "horizontal",
            "min": 0,
            "description_tooltip": null,
            "_model_module": "@jupyter-widgets/controls",
            "layout": "IPY_MODEL_a2e24519e5174a63bd875a31889db118"
          }
        },
        "7464e0123eb940dfa05356c7a8b70af1": {
          "model_module": "@jupyter-widgets/controls",
          "model_name": "HTMLModel",
          "state": {
            "_view_name": "HTMLView",
            "style": "IPY_MODEL_f6741deaeb1740ec94609301c90f130e",
            "_dom_classes": [],
            "description": "",
            "_model_name": "HTMLModel",
            "placeholder": "​",
            "_view_module": "@jupyter-widgets/controls",
            "_model_module_version": "1.5.0",
            "value": " 456k/456k [00:00&lt;00:00, 4.81MB/s]",
            "_view_count": null,
            "_view_module_version": "1.5.0",
            "description_tooltip": null,
            "_model_module": "@jupyter-widgets/controls",
            "layout": "IPY_MODEL_29dd956b39174fffa3b1d4958e5d7a23"
          }
        },
        "35ff544a0ec64e8fbf915499d5dfafac": {
          "model_module": "@jupyter-widgets/controls",
          "model_name": "ProgressStyleModel",
          "state": {
            "_view_name": "StyleView",
            "_model_name": "ProgressStyleModel",
            "description_width": "initial",
            "_view_module": "@jupyter-widgets/base",
            "_model_module_version": "1.5.0",
            "_view_count": null,
            "_view_module_version": "1.2.0",
            "bar_color": null,
            "_model_module": "@jupyter-widgets/controls"
          }
        },
        "a2e24519e5174a63bd875a31889db118": {
          "model_module": "@jupyter-widgets/base",
          "model_name": "LayoutModel",
          "state": {
            "_view_name": "LayoutView",
            "grid_template_rows": null,
            "right": null,
            "justify_content": null,
            "_view_module": "@jupyter-widgets/base",
            "overflow": null,
            "_model_module_version": "1.2.0",
            "_view_count": null,
            "flex_flow": null,
            "width": null,
            "min_width": null,
            "border": null,
            "align_items": null,
            "bottom": null,
            "_model_module": "@jupyter-widgets/base",
            "top": null,
            "grid_column": null,
            "overflow_y": null,
            "overflow_x": null,
            "grid_auto_flow": null,
            "grid_area": null,
            "grid_template_columns": null,
            "flex": null,
            "_model_name": "LayoutModel",
            "justify_items": null,
            "grid_row": null,
            "max_height": null,
            "align_content": null,
            "visibility": null,
            "align_self": null,
            "height": null,
            "min_height": null,
            "padding": null,
            "grid_auto_rows": null,
            "grid_gap": null,
            "max_width": null,
            "order": null,
            "_view_module_version": "1.2.0",
            "grid_template_areas": null,
            "object_position": null,
            "object_fit": null,
            "grid_auto_columns": null,
            "margin": null,
            "display": null,
            "left": null
          }
        },
        "f6741deaeb1740ec94609301c90f130e": {
          "model_module": "@jupyter-widgets/controls",
          "model_name": "DescriptionStyleModel",
          "state": {
            "_view_name": "StyleView",
            "_model_name": "DescriptionStyleModel",
            "description_width": "",
            "_view_module": "@jupyter-widgets/base",
            "_model_module_version": "1.5.0",
            "_view_count": null,
            "_view_module_version": "1.2.0",
            "_model_module": "@jupyter-widgets/controls"
          }
        },
        "29dd956b39174fffa3b1d4958e5d7a23": {
          "model_module": "@jupyter-widgets/base",
          "model_name": "LayoutModel",
          "state": {
            "_view_name": "LayoutView",
            "grid_template_rows": null,
            "right": null,
            "justify_content": null,
            "_view_module": "@jupyter-widgets/base",
            "overflow": null,
            "_model_module_version": "1.2.0",
            "_view_count": null,
            "flex_flow": null,
            "width": null,
            "min_width": null,
            "border": null,
            "align_items": null,
            "bottom": null,
            "_model_module": "@jupyter-widgets/base",
            "top": null,
            "grid_column": null,
            "overflow_y": null,
            "overflow_x": null,
            "grid_auto_flow": null,
            "grid_area": null,
            "grid_template_columns": null,
            "flex": null,
            "_model_name": "LayoutModel",
            "justify_items": null,
            "grid_row": null,
            "max_height": null,
            "align_content": null,
            "visibility": null,
            "align_self": null,
            "height": null,
            "min_height": null,
            "padding": null,
            "grid_auto_rows": null,
            "grid_gap": null,
            "max_width": null,
            "order": null,
            "_view_module_version": "1.2.0",
            "grid_template_areas": null,
            "object_position": null,
            "object_fit": null,
            "grid_auto_columns": null,
            "margin": null,
            "display": null,
            "left": null
          }
        },
        "61b93144426e42cc8c3b263d10ef882c": {
          "model_module": "@jupyter-widgets/controls",
          "model_name": "HBoxModel",
          "state": {
            "_view_name": "HBoxView",
            "_dom_classes": [],
            "_model_name": "HBoxModel",
            "_view_module": "@jupyter-widgets/controls",
            "_model_module_version": "1.5.0",
            "_view_count": null,
            "_view_module_version": "1.5.0",
            "box_style": "",
            "layout": "IPY_MODEL_a21e051ade454c7bbac6f5dec4863d22",
            "_model_module": "@jupyter-widgets/controls",
            "children": [
              "IPY_MODEL_984cd5e29d0647a38af81edd59d3e1a4",
              "IPY_MODEL_caa9f61b46b54f5e9d416c196c2afe06"
            ]
          }
        },
        "a21e051ade454c7bbac6f5dec4863d22": {
          "model_module": "@jupyter-widgets/base",
          "model_name": "LayoutModel",
          "state": {
            "_view_name": "LayoutView",
            "grid_template_rows": null,
            "right": null,
            "justify_content": null,
            "_view_module": "@jupyter-widgets/base",
            "overflow": null,
            "_model_module_version": "1.2.0",
            "_view_count": null,
            "flex_flow": null,
            "width": null,
            "min_width": null,
            "border": null,
            "align_items": null,
            "bottom": null,
            "_model_module": "@jupyter-widgets/base",
            "top": null,
            "grid_column": null,
            "overflow_y": null,
            "overflow_x": null,
            "grid_auto_flow": null,
            "grid_area": null,
            "grid_template_columns": null,
            "flex": null,
            "_model_name": "LayoutModel",
            "justify_items": null,
            "grid_row": null,
            "max_height": null,
            "align_content": null,
            "visibility": null,
            "align_self": null,
            "height": null,
            "min_height": null,
            "padding": null,
            "grid_auto_rows": null,
            "grid_gap": null,
            "max_width": null,
            "order": null,
            "_view_module_version": "1.2.0",
            "grid_template_areas": null,
            "object_position": null,
            "object_fit": null,
            "grid_auto_columns": null,
            "margin": null,
            "display": null,
            "left": null
          }
        },
        "984cd5e29d0647a38af81edd59d3e1a4": {
          "model_module": "@jupyter-widgets/controls",
          "model_name": "FloatProgressModel",
          "state": {
            "_view_name": "ProgressView",
            "style": "IPY_MODEL_2afdbd3182f54d8388e48701ba8f4e05",
            "_dom_classes": [],
            "description": "Downloading: 100%",
            "_model_name": "FloatProgressModel",
            "bar_style": "success",
            "max": 866,
            "_view_module": "@jupyter-widgets/controls",
            "_model_module_version": "1.5.0",
            "value": 866,
            "_view_count": null,
            "_view_module_version": "1.5.0",
            "orientation": "horizontal",
            "min": 0,
            "description_tooltip": null,
            "_model_module": "@jupyter-widgets/controls",
            "layout": "IPY_MODEL_a21f8658766b4f4d9b8611176dfe0aa4"
          }
        },
        "caa9f61b46b54f5e9d416c196c2afe06": {
          "model_module": "@jupyter-widgets/controls",
          "model_name": "HTMLModel",
          "state": {
            "_view_name": "HTMLView",
            "style": "IPY_MODEL_c67c9f8abc4943f986eb728c33497d2d",
            "_dom_classes": [],
            "description": "",
            "_model_name": "HTMLModel",
            "placeholder": "​",
            "_view_module": "@jupyter-widgets/controls",
            "_model_module_version": "1.5.0",
            "value": " 866/866 [00:00&lt;00:00, 2.76kB/s]",
            "_view_count": null,
            "_view_module_version": "1.5.0",
            "description_tooltip": null,
            "_model_module": "@jupyter-widgets/controls",
            "layout": "IPY_MODEL_98ebea51b1924544b0072127aef21b9b"
          }
        },
        "2afdbd3182f54d8388e48701ba8f4e05": {
          "model_module": "@jupyter-widgets/controls",
          "model_name": "ProgressStyleModel",
          "state": {
            "_view_name": "StyleView",
            "_model_name": "ProgressStyleModel",
            "description_width": "initial",
            "_view_module": "@jupyter-widgets/base",
            "_model_module_version": "1.5.0",
            "_view_count": null,
            "_view_module_version": "1.2.0",
            "bar_color": null,
            "_model_module": "@jupyter-widgets/controls"
          }
        },
        "a21f8658766b4f4d9b8611176dfe0aa4": {
          "model_module": "@jupyter-widgets/base",
          "model_name": "LayoutModel",
          "state": {
            "_view_name": "LayoutView",
            "grid_template_rows": null,
            "right": null,
            "justify_content": null,
            "_view_module": "@jupyter-widgets/base",
            "overflow": null,
            "_model_module_version": "1.2.0",
            "_view_count": null,
            "flex_flow": null,
            "width": null,
            "min_width": null,
            "border": null,
            "align_items": null,
            "bottom": null,
            "_model_module": "@jupyter-widgets/base",
            "top": null,
            "grid_column": null,
            "overflow_y": null,
            "overflow_x": null,
            "grid_auto_flow": null,
            "grid_area": null,
            "grid_template_columns": null,
            "flex": null,
            "_model_name": "LayoutModel",
            "justify_items": null,
            "grid_row": null,
            "max_height": null,
            "align_content": null,
            "visibility": null,
            "align_self": null,
            "height": null,
            "min_height": null,
            "padding": null,
            "grid_auto_rows": null,
            "grid_gap": null,
            "max_width": null,
            "order": null,
            "_view_module_version": "1.2.0",
            "grid_template_areas": null,
            "object_position": null,
            "object_fit": null,
            "grid_auto_columns": null,
            "margin": null,
            "display": null,
            "left": null
          }
        },
        "c67c9f8abc4943f986eb728c33497d2d": {
          "model_module": "@jupyter-widgets/controls",
          "model_name": "DescriptionStyleModel",
          "state": {
            "_view_name": "StyleView",
            "_model_name": "DescriptionStyleModel",
            "description_width": "",
            "_view_module": "@jupyter-widgets/base",
            "_model_module_version": "1.5.0",
            "_view_count": null,
            "_view_module_version": "1.2.0",
            "_model_module": "@jupyter-widgets/controls"
          }
        },
        "98ebea51b1924544b0072127aef21b9b": {
          "model_module": "@jupyter-widgets/base",
          "model_name": "LayoutModel",
          "state": {
            "_view_name": "LayoutView",
            "grid_template_rows": null,
            "right": null,
            "justify_content": null,
            "_view_module": "@jupyter-widgets/base",
            "overflow": null,
            "_model_module_version": "1.2.0",
            "_view_count": null,
            "flex_flow": null,
            "width": null,
            "min_width": null,
            "border": null,
            "align_items": null,
            "bottom": null,
            "_model_module": "@jupyter-widgets/base",
            "top": null,
            "grid_column": null,
            "overflow_y": null,
            "overflow_x": null,
            "grid_auto_flow": null,
            "grid_area": null,
            "grid_template_columns": null,
            "flex": null,
            "_model_name": "LayoutModel",
            "justify_items": null,
            "grid_row": null,
            "max_height": null,
            "align_content": null,
            "visibility": null,
            "align_self": null,
            "height": null,
            "min_height": null,
            "padding": null,
            "grid_auto_rows": null,
            "grid_gap": null,
            "max_width": null,
            "order": null,
            "_view_module_version": "1.2.0",
            "grid_template_areas": null,
            "object_position": null,
            "object_fit": null,
            "grid_auto_columns": null,
            "margin": null,
            "display": null,
            "left": null
          }
        },
        "7d4138bb08c54c408134434c1bc22f24": {
          "model_module": "@jupyter-widgets/controls",
          "model_name": "HBoxModel",
          "state": {
            "_view_name": "HBoxView",
            "_dom_classes": [],
            "_model_name": "HBoxModel",
            "_view_module": "@jupyter-widgets/controls",
            "_model_module_version": "1.5.0",
            "_view_count": null,
            "_view_module_version": "1.5.0",
            "box_style": "",
            "layout": "IPY_MODEL_03365c120b844e2b9937b8ffeddc6025",
            "_model_module": "@jupyter-widgets/controls",
            "children": [
              "IPY_MODEL_4efd055fbd2a485993ca363581b3031a",
              "IPY_MODEL_a38fc080994c48ac9bd3aca34b5eff49"
            ]
          }
        },
        "03365c120b844e2b9937b8ffeddc6025": {
          "model_module": "@jupyter-widgets/base",
          "model_name": "LayoutModel",
          "state": {
            "_view_name": "LayoutView",
            "grid_template_rows": null,
            "right": null,
            "justify_content": null,
            "_view_module": "@jupyter-widgets/base",
            "overflow": null,
            "_model_module_version": "1.2.0",
            "_view_count": null,
            "flex_flow": null,
            "width": null,
            "min_width": null,
            "border": null,
            "align_items": null,
            "bottom": null,
            "_model_module": "@jupyter-widgets/base",
            "top": null,
            "grid_column": null,
            "overflow_y": null,
            "overflow_x": null,
            "grid_auto_flow": null,
            "grid_area": null,
            "grid_template_columns": null,
            "flex": null,
            "_model_name": "LayoutModel",
            "justify_items": null,
            "grid_row": null,
            "max_height": null,
            "align_content": null,
            "visibility": null,
            "align_self": null,
            "height": null,
            "min_height": null,
            "padding": null,
            "grid_auto_rows": null,
            "grid_gap": null,
            "max_width": null,
            "order": null,
            "_view_module_version": "1.2.0",
            "grid_template_areas": null,
            "object_position": null,
            "object_fit": null,
            "grid_auto_columns": null,
            "margin": null,
            "display": null,
            "left": null
          }
        },
        "4efd055fbd2a485993ca363581b3031a": {
          "model_module": "@jupyter-widgets/controls",
          "model_name": "FloatProgressModel",
          "state": {
            "_view_name": "ProgressView",
            "style": "IPY_MODEL_33a33241cfc943bfae87270208e1a5ac",
            "_dom_classes": [],
            "description": "Downloading: 100%",
            "_model_name": "FloatProgressModel",
            "bar_style": "success",
            "max": 1739063632,
            "_view_module": "@jupyter-widgets/controls",
            "_model_module_version": "1.5.0",
            "value": 1739063632,
            "_view_count": null,
            "_view_module_version": "1.5.0",
            "orientation": "horizontal",
            "min": 0,
            "description_tooltip": null,
            "_model_module": "@jupyter-widgets/controls",
            "layout": "IPY_MODEL_3d31e7dcfbab4bf9a9da773cfbe19dc8"
          }
        },
        "a38fc080994c48ac9bd3aca34b5eff49": {
          "model_module": "@jupyter-widgets/controls",
          "model_name": "HTMLModel",
          "state": {
            "_view_name": "HTMLView",
            "style": "IPY_MODEL_fe2d4619d3fc40ae8da726f18766cce8",
            "_dom_classes": [],
            "description": "",
            "_model_name": "HTMLModel",
            "placeholder": "​",
            "_view_module": "@jupyter-widgets/controls",
            "_model_module_version": "1.5.0",
            "value": " 1.74G/1.74G [00:50&lt;00:00, 34.5MB/s]",
            "_view_count": null,
            "_view_module_version": "1.5.0",
            "description_tooltip": null,
            "_model_module": "@jupyter-widgets/controls",
            "layout": "IPY_MODEL_fbe5febc21904c32979f6d309050380e"
          }
        },
        "33a33241cfc943bfae87270208e1a5ac": {
          "model_module": "@jupyter-widgets/controls",
          "model_name": "ProgressStyleModel",
          "state": {
            "_view_name": "StyleView",
            "_model_name": "ProgressStyleModel",
            "description_width": "initial",
            "_view_module": "@jupyter-widgets/base",
            "_model_module_version": "1.5.0",
            "_view_count": null,
            "_view_module_version": "1.2.0",
            "bar_color": null,
            "_model_module": "@jupyter-widgets/controls"
          }
        },
        "3d31e7dcfbab4bf9a9da773cfbe19dc8": {
          "model_module": "@jupyter-widgets/base",
          "model_name": "LayoutModel",
          "state": {
            "_view_name": "LayoutView",
            "grid_template_rows": null,
            "right": null,
            "justify_content": null,
            "_view_module": "@jupyter-widgets/base",
            "overflow": null,
            "_model_module_version": "1.2.0",
            "_view_count": null,
            "flex_flow": null,
            "width": null,
            "min_width": null,
            "border": null,
            "align_items": null,
            "bottom": null,
            "_model_module": "@jupyter-widgets/base",
            "top": null,
            "grid_column": null,
            "overflow_y": null,
            "overflow_x": null,
            "grid_auto_flow": null,
            "grid_area": null,
            "grid_template_columns": null,
            "flex": null,
            "_model_name": "LayoutModel",
            "justify_items": null,
            "grid_row": null,
            "max_height": null,
            "align_content": null,
            "visibility": null,
            "align_self": null,
            "height": null,
            "min_height": null,
            "padding": null,
            "grid_auto_rows": null,
            "grid_gap": null,
            "max_width": null,
            "order": null,
            "_view_module_version": "1.2.0",
            "grid_template_areas": null,
            "object_position": null,
            "object_fit": null,
            "grid_auto_columns": null,
            "margin": null,
            "display": null,
            "left": null
          }
        },
        "fe2d4619d3fc40ae8da726f18766cce8": {
          "model_module": "@jupyter-widgets/controls",
          "model_name": "DescriptionStyleModel",
          "state": {
            "_view_name": "StyleView",
            "_model_name": "DescriptionStyleModel",
            "description_width": "",
            "_view_module": "@jupyter-widgets/base",
            "_model_module_version": "1.5.0",
            "_view_count": null,
            "_view_module_version": "1.2.0",
            "_model_module": "@jupyter-widgets/controls"
          }
        },
        "fbe5febc21904c32979f6d309050380e": {
          "model_module": "@jupyter-widgets/base",
          "model_name": "LayoutModel",
          "state": {
            "_view_name": "LayoutView",
            "grid_template_rows": null,
            "right": null,
            "justify_content": null,
            "_view_module": "@jupyter-widgets/base",
            "overflow": null,
            "_model_module_version": "1.2.0",
            "_view_count": null,
            "flex_flow": null,
            "width": null,
            "min_width": null,
            "border": null,
            "align_items": null,
            "bottom": null,
            "_model_module": "@jupyter-widgets/base",
            "top": null,
            "grid_column": null,
            "overflow_y": null,
            "overflow_x": null,
            "grid_auto_flow": null,
            "grid_area": null,
            "grid_template_columns": null,
            "flex": null,
            "_model_name": "LayoutModel",
            "justify_items": null,
            "grid_row": null,
            "max_height": null,
            "align_content": null,
            "visibility": null,
            "align_self": null,
            "height": null,
            "min_height": null,
            "padding": null,
            "grid_auto_rows": null,
            "grid_gap": null,
            "max_width": null,
            "order": null,
            "_view_module_version": "1.2.0",
            "grid_template_areas": null,
            "object_position": null,
            "object_fit": null,
            "grid_auto_columns": null,
            "margin": null,
            "display": null,
            "left": null
          }
        }
      }
    }
  },
  "cells": [
    {
      "cell_type": "markdown",
      "metadata": {
        "id": "Wex1IRIw5XB3"
      },
      "source": [
        "# **Baseline Model for Multi-hop Question & Answering (Longformer + HotpotQA)**\r\n",
        "The pre-trained `allenai/longformer-large-4096-finetuned-triviaqa` model checkpoint (for single-hop QA) is taken from Hugging Face for setting the baseline for the HotpotQA data set.\r\n",
        "\r\n",
        "\r\n",
        "https://huggingface.co/allenai/longformer-large-4096-finetuned-triviaqa<br>\r\n",
        "https://hotpotqa.github.io/index.html\r\n",
        "\r\n",
        "NOTE: Runtime is about 1.5 hours even for inferencing the answers on test set. \r\n",
        "It is an issue Tensorflow 2.0. \r\n",
        "For quick experiments, execute the notebook till Manual Inference block and change the id with random values in range (0 - 7478)\r\n"
      ]
    },
    {
      "cell_type": "code",
      "metadata": {
        "id": "vEKHaA6jV7u-",
        "colab": {
          "base_uri": "https://localhost:8080/"
        },
        "outputId": "3c51dd54-19b2-4d83-d04f-24844fb66cde"
      },
      "source": [
        "!pip install -q transformers==3.5.1"
      ],
      "execution_count": null,
      "outputs": [
        {
          "output_type": "stream",
          "text": [
            "\u001b[K     |████████████████████████████████| 1.3MB 23.8MB/s \n",
            "\u001b[K     |████████████████████████████████| 2.9MB 57.1MB/s \n",
            "\u001b[K     |████████████████████████████████| 1.1MB 58.2MB/s \n",
            "\u001b[K     |████████████████████████████████| 890kB 56.4MB/s \n",
            "\u001b[?25h  Building wheel for sacremoses (setup.py) ... \u001b[?25l\u001b[?25hdone\n"
          ],
          "name": "stdout"
        }
      ]
    },
    {
      "cell_type": "code",
      "metadata": {
        "id": "hEqZn8G6V-pi"
      },
      "source": [
        "import re\n",
        "import json\n",
        "import time\n",
        "import random\n",
        "import string\n",
        "import tarfile\n",
        "import numpy as np\n",
        "import pandas as pd\n",
        "import matplotlib.pyplot as plt\n",
        "from tqdm import tqdm\n",
        "from collections import Counter\n",
        "\n",
        "import tensorflow as tf\n",
        "from transformers import LongformerTokenizer, TFLongformerForQuestionAnswering"
      ],
      "execution_count": null,
      "outputs": []
    },
    {
      "cell_type": "code",
      "metadata": {
        "id": "k0CLI0pO5nG5"
      },
      "source": [
        "# Configurations\r\n",
        "MODEL = 'allenai/longformer-large-4096-finetuned-triviaqa'\r\n",
        "MAX_LEN = 512\r\n",
        "PUBLIC_ACCESS = True"
      ],
      "execution_count": null,
      "outputs": []
    },
    {
      "cell_type": "code",
      "metadata": {
        "id": "_Xj-XQjNf72C",
        "colab": {
          "base_uri": "https://localhost:8080/"
        },
        "outputId": "8dd4eca7-4108-4924-dc63-78bd2e8f8da1"
      },
      "source": [
        "# TAR.GZ extractor\n",
        "def extract_tar(fname):\n",
        "  tar = tarfile.open(fname, \"r:gz\")\n",
        "  tar.extractall()\n",
        "  tar.close()\n",
        "\n",
        "# Download Files\n",
        "if PUBLIC_ACCESS:\n",
        "  !gdown --id \"1pFJ0NAvMSn7C-vI-hzeSsCG7ppJGa8EV\"\n",
        "  extract_tar('HotPotQA_EM.tar.gz')\n",
        "else:\n",
        "  extract_tar('/content/drive/MyDrive/data/hotpot/HotPotQA_EM.tar.gz')"
      ],
      "execution_count": null,
      "outputs": [
        {
          "output_type": "stream",
          "text": [
            "Downloading...\n",
            "From: https://drive.google.com/uc?id=1pFJ0NAvMSn7C-vI-hzeSsCG7ppJGa8EV\n",
            "To: /content/HotPotQA_EM.tar.gz\n",
            "221MB [00:03, 67.5MB/s]\n"
          ],
          "name": "stdout"
        }
      ]
    },
    {
      "cell_type": "code",
      "metadata": {
        "id": "2vdC9V33WApt"
      },
      "source": [
        "# Import Data\n",
        "with open('train_em.json') as f:\n",
        "    train_data = json.load(f)\n",
        "with open('val_em.json') as f:\n",
        "    val_data = json.load(f)"
      ],
      "execution_count": null,
      "outputs": []
    },
    {
      "cell_type": "code",
      "metadata": {
        "id": "VciEYxesAaK9",
        "colab": {
          "base_uri": "https://localhost:8080/"
        },
        "outputId": "4e50d9c5-d8cc-48ce-87ea-d6e75450bd93"
      },
      "source": [
        "# Print header\r\n",
        "train_data[0].keys()"
      ],
      "execution_count": null,
      "outputs": [
        {
          "output_type": "execute_result",
          "data": {
            "text/plain": [
              "dict_keys(['supporting_facts', 'level', 'question', 'context', 'answer', '_id', 'type'])"
            ]
          },
          "metadata": {
            "tags": []
          },
          "execution_count": 6
        }
      ]
    },
    {
      "cell_type": "code",
      "metadata": {
        "id": "LhAUqHNXA6D4",
        "colab": {
          "base_uri": "https://localhost:8080/"
        },
        "outputId": "2d8f11f2-5111-4a01-c14f-94576a301b21"
      },
      "source": [
        "# Print a question, context and answer triplet\r\n",
        "print(train_data[0]['question'], train_data[0]['answer'], train_data[0]['context'], sep='\\n')"
      ],
      "execution_count": null,
      "outputs": [
        {
          "output_type": "stream",
          "text": [
            "Who was once considered the best kick boxer in the world, however he has been involved in a number of controversies relating to his \"unsportsmanlike conducts\" in the sport and crimes of violence outside of the ring.\n",
            "Badr Hari\n",
            "['The 1998 Verano de Escándalo (Spanish for \"Summer of Scandal\") was the second annual \"Verano de Escandalo\" professional wrestling show promoted by AAA. The show took place on September 18, 1998, in Madero, Tamaulipas, Mexico. The main event featured steel cage match between the teams of Heavy Metal and Blue Demon Jr. and Kick Boxer and Abismo Negro. The stipulation of the main event was that if the team of Heavy Metal and Blue Demon Jr. lost referee Guicho Dominguez would be referee El Tirante\\'s \"slave\" for a week. If Kick Boxer and Abismo Negro lost El Tirantes would be Guicho Dominguez\\'s slave for a week.', 'Triplemanía VII was the seventh \"Triplemanía\" wrestling show promoted by AAA. The show took place on June 11, 1999, in Madero, Mexico. The Main event featured a Six-man \"Lucha Libre rules\" tag team match between the teams of Perro Aguayo, Octagón and El Cobarde II and El Texano, Perro Aguayo Jr. and Sangre Chicana. In the semi-main event Heavy Metal and El Felino defended the hair of their father, referee Pepe \"Tropi\" Casas while Kick Boxer and Thai Boxer defended the hair of referee El Tirantes. As a result, El Tirantes had his hair shaved off after the match.', 'A protection racket is a scheme whereby a group provides protection to businesses or other groups through violence outside the sanction of the law. Through the credible threat of violence, the racketeers deter people from swindling, robbing, injuring, sabotaging or otherwise harming their clients. Protection rackets tend to appear in markets where the police and judiciary cannot be counted on to provide legal protection, either because of incompetence (as in weak or failed states) or illegality (black markets).', 'Elwood Gordon Gee (born February 2, 1944) is an American academic and is currently serving his second term as President of West Virginia University. He has served as the chief executive at several universities in the United States, previously serving at Ohio State University. Gee had been heading an Ohio State-based think tank following his retirement from the Ohio State presidency on July 1, 2013. He retired in response to a series of controversies relating to comments he made, the last of which involved anti-Catholic comments allegedly made in jest about the University of Notre Dame. His resignation thus ended his second term as the president; he had previously served as president of Ohio State from 1990 to 1997.', 'Badr Hari (Arabic: بدر هاري\\u200e \\u200e ; born 8 December 1984) is a Moroccan-Dutch super heavyweight kickboxer from Amsterdam, fighting out of Mike\\'s Gym in Oostzaan. He is a former K-1 Heavyweight champion (2007—2008), It\\'s Showtime Heavyweight world champion (2009-2010) and \"K-1 World Grand Prix 2009\" finalist. Hari has been a prominent figure in the world of kickboxing and was once considered the best kickboxer in the world, however he has been involved in a number of controversies relating to his \"unsportsmanlike conducts\" in the sport and crimes of violence outside of the ring.', '\"Guerra de Titanes\" (1998) (\"War of the Titans\") was the second \"Guerra de Titanes\" professional wrestling show promoted by AAA. The show took place on December 13, 1998 in Chihuahua, Chihuahua, Mexico. The Main event featured a Steel Cage Match that highlighted two storyline feuds between Octagón and his \"Evil twin\" Pentagón and the feud between Heavy Metal and Kick Boxer as Octagón and Heavy Metal teamed together to take on Pentagón and Kick Boxer.', 'Global Fighting Championship (also known as GFC) was a UAE-based kickboxing and mixed martial arts (MMA) event. Fighters from around world on the roster include Badr Hari, Peter Aerts, Peter Graham, Dewey Cooper, Zabit Samedov. It was considered as one of the biggest kickboxing and MMA promotion in Middle East.<ref name=\"Emirates 24/7\"> </ref>', 'Outrageous Betrayal: The Dark Journey of Werner Erhard from est to Exile is a non-fiction book written by freelance journalist Steven Pressman and first published in 1993 by St. Martin\\'s Press. The book gives an account of Werner H. Erhard\\'s early life as Jack Rosenberg, his exploration of various forms of self-improvement techniques, and his foundation of Erhard Seminars Training \"est\" and later of Werner Erhard and Associates and of the Est successor course, \"The Forum\". Pressman details the rapid financial success Erhard had with these companies, as well as controversies relating to litigation involving former participants in his courses. The work concludes by going over the impact of a March 3, 1991 \"60 Minutes\" broadcast on CBS where members of Erhard\\'s family made allegations against him, and Erhard\\'s decision to leave the United States.', 'Cricket has had a number of controversies relating to players being involved with the betting aspects of the game. In particular, numerous players have been approached by bookmakers and bribed to throw matches, aspects of matches (e.g. the toss) or provide other information.', 'Prosecution of gender-targeted crimes is the legal proceedings to prosecute crimes such as rape and domestic violence. The earliest documented prosecution of gender-based/targeted crimes is from 1474 when Sir Peter von Hagenbach was convicted for rapes committed by his troops. However, the trial was unsuccessful in indicting Sir von Hagenbach with the charge of rape because the war in which the rapes occurred was \"undeclared\" and thus the rapes were only considered illegal. Gender-targeted crimes continued to be prosecuted, but it was not until after World War II when an international criminal tribunal- the International Military Tribunal for the Far East (Tokyo Tribunal)- were officers charged for being responsible of the gender-targeted crimes (particularly rape) and other crimes against humanity. Despite the various rape charges, the Charter of the Tokyo Tribunal did not make references to rape, and rape was considered as subordinate to other war crimes. This is also the situation for other tribunals that followed, but with the establishments of the International Criminal Tribunal for the former Yugoslavia (ICTY) and the International Criminal Tribunal for Rwanda (ICTR), there was more attention to the prosecution of gender-targeted crimes with each of the statutes explicitly referring to rape and other forms of gender-targeted violence.']\n"
          ],
          "name": "stdout"
        }
      ]
    },
    {
      "cell_type": "code",
      "metadata": {
        "id": "9JE610EBWDnz"
      },
      "source": [
        "# Convert JSON to DF\n",
        "df_train = pd.DataFrame(train_data)\n",
        "df_val = pd.DataFrame(val_data)"
      ],
      "execution_count": null,
      "outputs": []
    },
    {
      "cell_type": "code",
      "metadata": {
        "id": "zp2oWwRpWFzP"
      },
      "source": [
        "# Converts list of sentences to paragraph string\n",
        "def paragraph_maker(context):\n",
        "    # context = []\n",
        "    # for i in x:\n",
        "    #     context.append(''.join(i))\n",
        "    context = ' '.join(context)\n",
        "    return context\n",
        "\n",
        "# Apply paragraph maker\n",
        "df_train['text'] = df_train['context'].apply(paragraph_maker)\n",
        "df_val['text'] = df_val['context'].apply(paragraph_maker)"
      ],
      "execution_count": null,
      "outputs": []
    },
    {
      "cell_type": "code",
      "metadata": {
        "id": "u0TQkm1fgSPD",
        "colab": {
          "base_uri": "https://localhost:8080/",
          "height": 210
        },
        "outputId": "da1af769-3d08-4f3d-94a2-f5a2a0ece78e"
      },
      "source": [
        "# Print head\r\n",
        "df_train.head(3)"
      ],
      "execution_count": null,
      "outputs": [
        {
          "output_type": "execute_result",
          "data": {
            "text/html": [
              "<div>\n",
              "<style scoped>\n",
              "    .dataframe tbody tr th:only-of-type {\n",
              "        vertical-align: middle;\n",
              "    }\n",
              "\n",
              "    .dataframe tbody tr th {\n",
              "        vertical-align: top;\n",
              "    }\n",
              "\n",
              "    .dataframe thead th {\n",
              "        text-align: right;\n",
              "    }\n",
              "</style>\n",
              "<table border=\"1\" class=\"dataframe\">\n",
              "  <thead>\n",
              "    <tr style=\"text-align: right;\">\n",
              "      <th></th>\n",
              "      <th>supporting_facts</th>\n",
              "      <th>level</th>\n",
              "      <th>question</th>\n",
              "      <th>context</th>\n",
              "      <th>answer</th>\n",
              "      <th>_id</th>\n",
              "      <th>type</th>\n",
              "      <th>text</th>\n",
              "    </tr>\n",
              "  </thead>\n",
              "  <tbody>\n",
              "    <tr>\n",
              "      <th>0</th>\n",
              "      <td>[[Global Fighting Championship, 1], [Global Fi...</td>\n",
              "      <td>easy</td>\n",
              "      <td>Who was once considered the best kick boxer in...</td>\n",
              "      <td>[The 1998 Verano de Escándalo (Spanish for \"Su...</td>\n",
              "      <td>Badr Hari</td>\n",
              "      <td>5a832c3455429954d2e2ec41</td>\n",
              "      <td>bridge</td>\n",
              "      <td>The 1998 Verano de Escándalo (Spanish for \"Sum...</td>\n",
              "    </tr>\n",
              "    <tr>\n",
              "      <th>1</th>\n",
              "      <td>[[Malcolm Smith (American football), 3], [Supe...</td>\n",
              "      <td>easy</td>\n",
              "      <td>In which American football game was Malcolm Sm...</td>\n",
              "      <td>[Winston Lagoon ( ) is a lagoon indenting the ...</td>\n",
              "      <td>Super Bowl XLVIII</td>\n",
              "      <td>5ade025e5542997dc790711e</td>\n",
              "      <td>bridge</td>\n",
              "      <td>Winston Lagoon ( ) is a lagoon indenting the s...</td>\n",
              "    </tr>\n",
              "    <tr>\n",
              "      <th>2</th>\n",
              "      <td>[[Hurt Locker (musical), 3], [Metallica, 2]]</td>\n",
              "      <td>easy</td>\n",
              "      <td>What are the names of the current members of  ...</td>\n",
              "      <td>[Joseph \"Joey\" Vera (born April 24, 1963) is a...</td>\n",
              "      <td>Hetfield and Ulrich, longtime lead guitarist K...</td>\n",
              "      <td>5ac2a5d455429921a00ab01b</td>\n",
              "      <td>bridge</td>\n",
              "      <td>Joseph \"Joey\" Vera (born April 24, 1963) is an...</td>\n",
              "    </tr>\n",
              "  </tbody>\n",
              "</table>\n",
              "</div>"
            ],
            "text/plain": [
              "                                    supporting_facts  ...                                               text\n",
              "0  [[Global Fighting Championship, 1], [Global Fi...  ...  The 1998 Verano de Escándalo (Spanish for \"Sum...\n",
              "1  [[Malcolm Smith (American football), 3], [Supe...  ...  Winston Lagoon ( ) is a lagoon indenting the s...\n",
              "2       [[Hurt Locker (musical), 3], [Metallica, 2]]  ...  Joseph \"Joey\" Vera (born April 24, 1963) is an...\n",
              "\n",
              "[3 rows x 8 columns]"
            ]
          },
          "metadata": {
            "tags": []
          },
          "execution_count": 10
        }
      ]
    },
    {
      "cell_type": "code",
      "metadata": {
        "id": "J3T7wCC-v_Gr"
      },
      "source": [
        "# Divide data according to difficulty levels\r\n",
        "df_val_easy = df_val.loc[df_val['level'] == 'easy']\r\n",
        "df_val_medium = df_val.loc[df_val['level'] == 'medium']\r\n",
        "df_val_hard = df_val.loc[df_val['level'] == 'hard']"
      ],
      "execution_count": null,
      "outputs": []
    },
    {
      "cell_type": "markdown",
      "metadata": {
        "id": "8vJjivL9YAxm"
      },
      "source": [
        "## Plot Token Count Distribution"
      ]
    },
    {
      "cell_type": "code",
      "metadata": {
        "id": "MqiO1p3CX7Q1"
      },
      "source": [
        "# Extract number of tokens per doc\r\n",
        "sizes = []\r\n",
        "for i in df_train['text'].to_list()+df_val['text'].to_list():\r\n",
        "    sizes.append(len(i.split()))\r\n",
        "sort_size = sorted(sizes)"
      ],
      "execution_count": null,
      "outputs": []
    },
    {
      "cell_type": "code",
      "metadata": {
        "colab": {
          "base_uri": "https://localhost:8080/",
          "height": 530
        },
        "id": "Xff6vLZVsP4-",
        "outputId": "76cfd761-d27d-4819-d87f-f7aae9265d02"
      },
      "source": [
        "# Plot token distribution\r\n",
        "plt.figure(figsize=(12,8))\r\n",
        "plt.title('Token Distribution for Context')\r\n",
        "plt.xlabel('Sample IDs sorted in increasing order of token counts')\r\n",
        "plt.ylabel('Token Counts')\r\n",
        "plt.plot(sort_size)"
      ],
      "execution_count": null,
      "outputs": [
        {
          "output_type": "execute_result",
          "data": {
            "text/plain": [
              "[<matplotlib.lines.Line2D at 0x7fa41813c320>]"
            ]
          },
          "metadata": {
            "tags": []
          },
          "execution_count": 13
        },
        {
          "output_type": "display_data",
          "data": {
            "image/png": "[encoded data removed]",
            "text/plain": [
              "<Figure size 864x576 with 1 Axes>"
            ]
          },
          "metadata": {
            "tags": [],
            "needs_background": "light"
          }
        }
      ]
    },
    {
      "cell_type": "markdown",
      "metadata": {
        "id": "NlfKawySbzg_"
      },
      "source": [
        "## Pre-trained Longformer"
      ]
    },
    {
      "cell_type": "code",
      "metadata": {
        "id": "GewUQNGmXgbX",
        "colab": {
          "base_uri": "https://localhost:8080/",
          "height": 281,
          "referenced_widgets": [
            "e1a76081aea746538ea69d4f4b787614",
            "66ce91fe4ce14eebad559ec6b637acd8",
            "f52f1ce5869c42998181613e178eb563",
            "ee8b154d6c9e4dad95fee4e15203be1a",
            "2d82458910d442ecb4408f10c906a34f",
            "c729425ec35e49c0920459155c59e211",
            "1ac0156886f24c0fb6fbf7fc5258265c",
            "b3436f51426c4d108b47e234f372a478",
            "631f420f4fdb438c9b1f72f14b2af1ad",
            "9b7a5d7c0eae4e5fb3a64fd670e96576",
            "7d0431a261e5447dbe3940339cca5495",
            "7464e0123eb940dfa05356c7a8b70af1",
            "35ff544a0ec64e8fbf915499d5dfafac",
            "a2e24519e5174a63bd875a31889db118",
            "f6741deaeb1740ec94609301c90f130e",
            "29dd956b39174fffa3b1d4958e5d7a23",
            "61b93144426e42cc8c3b263d10ef882c",
            "a21e051ade454c7bbac6f5dec4863d22",
            "984cd5e29d0647a38af81edd59d3e1a4",
            "caa9f61b46b54f5e9d416c196c2afe06",
            "2afdbd3182f54d8388e48701ba8f4e05",
            "a21f8658766b4f4d9b8611176dfe0aa4",
            "c67c9f8abc4943f986eb728c33497d2d",
            "98ebea51b1924544b0072127aef21b9b",
            "7d4138bb08c54c408134434c1bc22f24",
            "03365c120b844e2b9937b8ffeddc6025",
            "4efd055fbd2a485993ca363581b3031a",
            "a38fc080994c48ac9bd3aca34b5eff49",
            "33a33241cfc943bfae87270208e1a5ac",
            "3d31e7dcfbab4bf9a9da773cfbe19dc8",
            "fe2d4619d3fc40ae8da726f18766cce8",
            "fbe5febc21904c32979f6d309050380e"
          ]
        },
        "outputId": "1e65a128-b06c-4948-f3f4-a1b4b02c3bbd"
      },
      "source": [
        "# Import tokenizer and model\n",
        "tokenizer = LongformerTokenizer.from_pretrained(MODEL)\n",
        "model = TFLongformerForQuestionAnswering.from_pretrained(MODEL)"
      ],
      "execution_count": null,
      "outputs": [
        {
          "output_type": "display_data",
          "data": {
            "application/vnd.jupyter.widget-view+json": {
              "model_id": "e1a76081aea746538ea69d4f4b787614",
              "version_minor": 0,
              "version_major": 2
            },
            "text/plain": [
              "HBox(children=(FloatProgress(value=0.0, description='Downloading', max=898823.0, style=ProgressStyle(descripti…"
            ]
          },
          "metadata": {
            "tags": []
          }
        },
        {
          "output_type": "stream",
          "text": [
            "\n"
          ],
          "name": "stdout"
        },
        {
          "output_type": "display_data",
          "data": {
            "application/vnd.jupyter.widget-view+json": {
              "model_id": "631f420f4fdb438c9b1f72f14b2af1ad",
              "version_minor": 0,
              "version_major": 2
            },
            "text/plain": [
              "HBox(children=(FloatProgress(value=0.0, description='Downloading', max=456318.0, style=ProgressStyle(descripti…"
            ]
          },
          "metadata": {
            "tags": []
          }
        },
        {
          "output_type": "stream",
          "text": [
            "\n"
          ],
          "name": "stdout"
        },
        {
          "output_type": "display_data",
          "data": {
            "application/vnd.jupyter.widget-view+json": {
              "model_id": "61b93144426e42cc8c3b263d10ef882c",
              "version_minor": 0,
              "version_major": 2
            },
            "text/plain": [
              "HBox(children=(FloatProgress(value=0.0, description='Downloading', max=866.0, style=ProgressStyle(description_…"
            ]
          },
          "metadata": {
            "tags": []
          }
        },
        {
          "output_type": "stream",
          "text": [
            "\n"
          ],
          "name": "stdout"
        },
        {
          "output_type": "display_data",
          "data": {
            "application/vnd.jupyter.widget-view+json": {
              "model_id": "7d4138bb08c54c408134434c1bc22f24",
              "version_minor": 0,
              "version_major": 2
            },
            "text/plain": [
              "HBox(children=(FloatProgress(value=0.0, description='Downloading', max=1739063632.0, style=ProgressStyle(descr…"
            ]
          },
          "metadata": {
            "tags": []
          }
        },
        {
          "output_type": "stream",
          "text": [
            "\n"
          ],
          "name": "stdout"
        },
        {
          "output_type": "stream",
          "text": [
            "All model checkpoint layers were used when initializing TFLongformerForQuestionAnswering.\n",
            "\n",
            "All the layers of TFLongformerForQuestionAnswering were initialized from the model checkpoint at allenai/longformer-large-4096-finetuned-triviaqa.\n",
            "If your task is similar to the task the model of the checkpoint was trained on, you can already use TFLongformerForQuestionAnswering for predictions without further training.\n"
          ],
          "name": "stderr"
        }
      ]
    },
    {
      "cell_type": "code",
      "metadata": {
        "id": "pjUXWrdWxDQV"
      },
      "source": [
        "# Funtion to generate answer for a question and text string\r\n",
        "def get_answer(question, text):\r\n",
        "    inputs = tokenizer.encode_plus(question, text, return_tensors='tf', max_length=MAX_LEN, truncation=True)\r\n",
        "    input_ids = inputs[\"input_ids\"].numpy().tolist()\r\n",
        "    start_scores, end_scores = model(inputs)\r\n",
        "\r\n",
        "    start = tf.math.argmax(start_scores, axis=1).numpy()[0]\r\n",
        "    end = tf.math.argmax(end_scores, axis=1).numpy()[0]\r\n",
        "    \r\n",
        "    all_tokens = tokenizer.convert_ids_to_tokens(input_ids[0])\r\n",
        "    answer = ''.join(all_tokens[start: end + 1]).replace('▁', ' ').strip()\r\n",
        "    answer = answer.replace('[SEP]', '')\r\n",
        "    return answer if ('[CLS]' not in answer) and (len(answer) != 0) else ''"
      ],
      "execution_count": null,
      "outputs": []
    },
    {
      "cell_type": "markdown",
      "metadata": {
        "id": "Gr5PWBX6mOKy"
      },
      "source": [
        "## Manual Inference"
      ]
    },
    {
      "cell_type": "code",
      "metadata": {
        "id": "CHw1RSt5ZU9R",
        "colab": {
          "base_uri": "https://localhost:8080/"
        },
        "outputId": "755f9037-6774-4e85-8d5b-a60c890483bf"
      },
      "source": [
        "# Print an example inference from model\r\n",
        "id = 1\r\n",
        "print(get_answer(df_val['question'].iloc[id], df_val['text'].iloc[id]))\r\n",
        "print(df_val['answer'].iloc[id])"
      ],
      "execution_count": null,
      "outputs": [
        {
          "output_type": "stream",
          "text": [
            "Ġpoets\n",
            "poet\n"
          ],
          "name": "stdout"
        }
      ]
    },
    {
      "cell_type": "markdown",
      "metadata": {
        "id": "4QdzR4TDb9hb"
      },
      "source": [
        "## Answer Prediction"
      ]
    },
    {
      "cell_type": "code",
      "metadata": {
        "id": "pn26UFIPcPj1"
      },
      "source": [
        "# Predict answer for a DF with columns 'question' and 'paragraphs'\n",
        "def predict_answers(df):\n",
        "    pred_answers = []\n",
        "    cnt_ans_found = 0\n",
        "    for i in tqdm(range(len(df))):\n",
        "        a = ''\n",
        "        try:\n",
        "            a = get_answer(df['question'].iloc[i], df['text'].iloc[i])\n",
        "            if a != '':\n",
        "                cnt_ans_found += 1\n",
        "        except:\n",
        "            print(f'Error in iteration {i}')\n",
        "        pred_answers.append(a)\n",
        "    return pred_answers, cnt_ans_found"
      ],
      "execution_count": null,
      "outputs": []
    },
    {
      "cell_type": "code",
      "metadata": {
        "id": "03v6CUbGcHWU",
        "colab": {
          "base_uri": "https://localhost:8080/"
        },
        "outputId": "99d5cb29-e5d3-4f8c-e866-eaf940c0c967"
      },
      "source": [
        "# Easy Predictions\n",
        "t0 = time.time()\n",
        "pred_answers_easy, cnt_ans_found_easy = predict_answers(df_val_easy)"
      ],
      "execution_count": null,
      "outputs": [
        {
          "output_type": "stream",
          "text": [
            "100%|██████████| 1797/1797 [36:05<00:00,  1.20s/it]\n"
          ],
          "name": "stderr"
        }
      ]
    },
    {
      "cell_type": "code",
      "metadata": {
        "id": "sO-F4xUId17U",
        "colab": {
          "base_uri": "https://localhost:8080/"
        },
        "outputId": "ac9be6a0-25f3-4423-9569-907df0ea9b76"
      },
      "source": [
        "# Medium Predictions\n",
        "t0 = time.time()\n",
        "pred_answers_medium, cnt_ans_found_medium = predict_answers(df_val_medium)"
      ],
      "execution_count": null,
      "outputs": [
        {
          "output_type": "stream",
          "text": [
            "100%|██████████| 5681/5681 [1:54:09<00:00,  1.21s/it]\n"
          ],
          "name": "stderr"
        }
      ]
    },
    {
      "cell_type": "code",
      "metadata": {
        "id": "PAHYkOMgxe_H",
        "colab": {
          "base_uri": "https://localhost:8080/"
        },
        "outputId": "a2680e97-a687-404c-83ee-67b026284d04"
      },
      "source": [
        "# Hard Predictions\n",
        "t0 = time.time()\n",
        "pred_answers_hard, cnt_ans_found_hard = predict_answers(df_val_hard)"
      ],
      "execution_count": null,
      "outputs": [
        {
          "output_type": "stream",
          "text": [
            "0it [00:00, ?it/s]\n"
          ],
          "name": "stderr"
        }
      ]
    },
    {
      "cell_type": "code",
      "metadata": {
        "id": "X4nixLgKtJGM",
        "colab": {
          "base_uri": "https://localhost:8080/"
        },
        "outputId": "7e198fea-f6c1-4f17-dc18-b55e7ffc8991"
      },
      "source": [
        "print(f'Easy Questions Answered {cnt_ans_found_easy} / {len(df_val_easy)}')"
      ],
      "execution_count": null,
      "outputs": [
        {
          "output_type": "stream",
          "text": [
            "Easy Questions Answered 1674 / 1797\n"
          ],
          "name": "stdout"
        }
      ]
    },
    {
      "cell_type": "code",
      "metadata": {
        "id": "qoDaeZzud2Jg",
        "colab": {
          "base_uri": "https://localhost:8080/"
        },
        "outputId": "af2d2342-3e75-4bd7-b03f-962d4a016d69"
      },
      "source": [
        "print(f'Medium Questions Answered {cnt_ans_found_medium} / {len(df_val_medium)}')"
      ],
      "execution_count": null,
      "outputs": [
        {
          "output_type": "stream",
          "text": [
            "Medium Questions Answered 5297 / 5681\n"
          ],
          "name": "stdout"
        }
      ]
    },
    {
      "cell_type": "code",
      "metadata": {
        "id": "VUx2pWy6xrza",
        "colab": {
          "base_uri": "https://localhost:8080/"
        },
        "outputId": "454ff15c-1c31-407a-eeee-7862dd7ca032"
      },
      "source": [
        "print(f'Hard Questions Answered {cnt_ans_found_hard} / {len(df_val_hard)}')"
      ],
      "execution_count": null,
      "outputs": [
        {
          "output_type": "stream",
          "text": [
            "Hard Questions Answered 0 / 0\n"
          ],
          "name": "stdout"
        }
      ]
    },
    {
      "cell_type": "markdown",
      "metadata": {
        "id": "EFXGM_CGEYX5"
      },
      "source": [
        "## Evaluation"
      ]
    },
    {
      "cell_type": "code",
      "metadata": {
        "id": "yZmMHo1sEaVx"
      },
      "source": [
        "# Evaluation functions taken from HotpotQA\n",
        "def normalize_answer(s):\n",
        "\n",
        "    def remove_articles(text):\n",
        "        return re.sub(r'\\b(a|an|the)\\b', ' ', text)\n",
        "\n",
        "    def white_space_fix(text):\n",
        "        return ' '.join(text.split())\n",
        "\n",
        "    def remove_punc(text):\n",
        "        exclude = set(string.punctuation)\n",
        "        return ''.join(ch for ch in text if ch not in exclude)\n",
        "\n",
        "    def lower(text):\n",
        "        return text.lower()\n",
        "\n",
        "    return white_space_fix(remove_articles(remove_punc(lower(s))))\n",
        "\n",
        "# Exact Match score\n",
        "def exact_match_score(prediction, ground_truth):\n",
        "    return (normalize_answer(prediction) == normalize_answer(ground_truth))\n",
        "\n",
        "# FPR metrics\n",
        "def f1_score(prediction, ground_truth):\n",
        "    normalized_prediction = normalize_answer(prediction)\n",
        "    normalized_ground_truth = normalize_answer(ground_truth)\n",
        "\n",
        "    ZERO_METRIC = (0, 0, 0)\n",
        "\n",
        "    if normalized_prediction in ['yes', 'no', 'noanswer'] and normalized_prediction != normalized_ground_truth:\n",
        "        return ZERO_METRIC\n",
        "    if normalized_ground_truth in ['yes', 'no', 'noanswer'] and normalized_prediction != normalized_ground_truth:\n",
        "        return ZERO_METRIC\n",
        "\n",
        "    prediction_tokens = normalized_prediction.split()\n",
        "    ground_truth_tokens = normalized_ground_truth.split()\n",
        "    common = Counter(prediction_tokens) & Counter(ground_truth_tokens)\n",
        "    num_same = sum(common.values())\n",
        "    if num_same == 0:\n",
        "        return ZERO_METRIC\n",
        "    precision = 1.0 * num_same / len(prediction_tokens)\n",
        "    recall = 1.0 * num_same / len(ground_truth_tokens)\n",
        "    f1 = (2 * precision * recall) / (precision + recall)\n",
        "    return f1, precision, recall"
      ],
      "execution_count": null,
      "outputs": []
    },
    {
      "cell_type": "code",
      "metadata": {
        "id": "ALC5Gt4LuQ0z"
      },
      "source": [
        "# Normalize the predictions by removing the seperator\n",
        "pred_answers_easy_n = [' '.join(i.split('Ġ')) for i in pred_answers_easy]\n",
        "pred_answers_medium_n = [' '.join(i.split('Ġ')) for i in pred_answers_medium]\n",
        "pred_answers_hard_n = [' '.join(i.split('Ġ')) for i in pred_answers_hard]"
      ],
      "execution_count": null,
      "outputs": []
    },
    {
      "cell_type": "code",
      "metadata": {
        "id": "2yoPoKNnso90"
      },
      "source": [
        "# Create a list of true answers for easy and medium\n",
        "true_answers_easy = df_val_easy['answer'].to_list()\n",
        "true_answers_medium = df_val_medium['answer'].to_list()\n",
        "true_answers_hard = df_val_hard['answer'].to_list()"
      ],
      "execution_count": null,
      "outputs": []
    },
    {
      "cell_type": "code",
      "metadata": {
        "id": "U2TqUTs4r3BT"
      },
      "source": [
        "# Calculate F1 and exact match score EM for each document in both easy and medium sets\n",
        "f1_easy = []\n",
        "em_easy = []\n",
        "p_easy = []\n",
        "r_easy = []\n",
        "f1_medium = []\n",
        "em_medium = []\n",
        "p_medium = []\n",
        "r_medium = []\n",
        "f1_hard = []\n",
        "em_hard = []\n",
        "p_hard = []\n",
        "r_hard = []\n",
        "\n",
        "# Easy\n",
        "for i in range(len(pred_answers_easy_n)):\n",
        "    fpr = f1_score(pred_answers_easy_n[i], true_answers_easy[i])\n",
        "    f1_easy.append(fpr[0])\n",
        "    p_easy.append(fpr[1])\n",
        "    r_easy.append(fpr[2])\n",
        "    em_easy.append(exact_match_score(pred_answers_easy_n[i], true_answers_easy[i]))\n",
        "\n",
        "# Medium\n",
        "for i in range(len(pred_answers_medium_n)):\n",
        "    fpr = f1_score(pred_answers_medium_n[i], true_answers_medium[i])\n",
        "    f1_medium.append(fpr[0])\n",
        "    p_medium.append(fpr[1])\n",
        "    r_medium.append(fpr[2])\n",
        "    em_medium.append(exact_match_score(pred_answers_medium_n[i], true_answers_medium[i]))\n",
        "\n",
        "# Hard\n",
        "for i in range(len(pred_answers_hard_n)):\n",
        "    fpr = f1_score(pred_answers_hard_n[i], true_answers_hard[i])\n",
        "    f1_hard.append(fpr[0])\n",
        "    p_hard.append(fpr[1])\n",
        "    r_hard.append(fpr[2])\n",
        "    em_hard.append(exact_match_score(pred_answers_hard_n[i], true_answers_hard[i]))"
      ],
      "execution_count": null,
      "outputs": []
    },
    {
      "cell_type": "code",
      "metadata": {
        "id": "Me0s9_tPsfJT",
        "colab": {
          "base_uri": "https://localhost:8080/"
        },
        "outputId": "693777fd-e5cd-4418-8867-ee872a6b82fd"
      },
      "source": [
        "# Trained model scores\n",
        "print(f\"Overall Mean F1: {np.mean(f1_easy+f1_medium+f1_hard)}\")\n",
        "print(f\"Overall Mean Precision: {np.mean(p_easy+p_medium+p_hard)}\")\n",
        "print(f\"Overall Mean Recall: {np.mean(r_easy+r_medium+r_hard)}\")\n",
        "print(f\"Overall Mean EM: {np.mean(em_easy+em_medium+em_hard)}\")\n",
        "\n",
        "print(f\"Easy Mean F1: {np.mean(f1_easy)}\")\n",
        "print(f\"Easy Mean EM: {np.mean(em_easy)}\")\n",
        "\n",
        "print(f\"Medium Mean F1: {np.mean(f1_medium)}\")\n",
        "print(f\"Medium Mean EM: {np.mean(em_medium)}\")\n",
        "\n",
        "# print(f\"Hard Mean F1: {np.mean(f1_hard)}\")\n",
        "# print(f\"Hard Mean EM: {np.mean(em_hard)}\")"
      ],
      "execution_count": null,
      "outputs": [
        {
          "output_type": "stream",
          "text": [
            "Overall Mean F1: 0.33522232311264094\n",
            "Overall Mean Precision: 0.36070985183452764\n",
            "Overall Mean Recall: 0.350776040327125\n",
            "Overall Mean EM: 0.2713292324150842\n",
            "Easy Mean F1: 0.3949259480218869\n",
            "Easy Mean EM: 0.3099610461880913\n",
            "Medium Mean F1: 0.31633701877151876\n",
            "Medium Mean EM: 0.2591093117408907\n"
          ],
          "name": "stdout"
        }
      ]
    }
  ]
}