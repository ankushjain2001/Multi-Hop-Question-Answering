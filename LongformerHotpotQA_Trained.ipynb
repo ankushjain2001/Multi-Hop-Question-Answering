{
  "nbformat": 4,
  "nbformat_minor": 0,
  "metadata": {
    "colab": {
      "name": "Trained_Inference_LongformerHotpotQA.ipynb",
      "provenance": [],
      "collapsed_sections": [],
      "toc_visible": true
    },
    "kernelspec": {
      "name": "python3",
      "display_name": "Python 3"
    },
    "accelerator": "GPU"
  },
  "cells": [
    {
      "cell_type": "markdown",
      "metadata": {
        "id": "-WjK5CiM6okD"
      },
      "source": [
        "# **Trained Model for Multi-hop Question & Answering (Longformer + HotpotQA)**\r\n",
        "The untrained `allenai/longformer-base-4096` base model is taken from Hugging Face for training on the HotpotQA data set.\r\n",
        "\r\n",
        "https://huggingface.co/allenai/longformer-base-4096<br>\r\n",
        "https://hotpotqa.github.io/index.html"
      ]
    },
    {
      "cell_type": "code",
      "metadata": {
        "id": "vEKHaA6jV7u-",
        "colab": {
          "base_uri": "https://localhost:8080/"
        },
        "outputId": "1423defd-794e-47e9-d4e4-214e3f62bc35"
      },
      "source": [
        "!pip install -q transformers==3.5.1"
      ],
      "execution_count": null,
      "outputs": [
        {
          "output_type": "stream",
          "text": [
            "\u001b[K     |████████████████████████████████| 1.3MB 7.4MB/s \n",
            "\u001b[K     |████████████████████████████████| 1.1MB 24.9MB/s \n",
            "\u001b[K     |████████████████████████████████| 2.9MB 45.7MB/s \n",
            "\u001b[K     |████████████████████████████████| 890kB 42.7MB/s \n",
            "\u001b[?25h  Building wheel for sacremoses (setup.py) ... \u001b[?25l\u001b[?25hdone\n"
          ],
          "name": "stdout"
        }
      ]
    },
    {
      "cell_type": "code",
      "metadata": {
        "id": "hEqZn8G6V-pi"
      },
      "source": [
        "import re\n",
        "import json\n",
        "import time\n",
        "import random\n",
        "import string\n",
        "import tarfile\n",
        "import numpy as np\n",
        "import pandas as pd\n",
        "import matplotlib.pyplot as plt\n",
        "from tqdm import tqdm\n",
        "from collections import Counter\n",
        "\n",
        "import tensorflow as tf\n",
        "from transformers import LongformerTokenizer, TFLongformerForQuestionAnswering"
      ],
      "execution_count": null,
      "outputs": []
    },
    {
      "cell_type": "code",
      "metadata": {
        "id": "k0CLI0pO5nG5"
      },
      "source": [
        "# Configurations\r\n",
        "MODEL = 'longformer-hotpotqa-model'\r\n",
        "TOKENIZER = 'longformer-hotpotqa-tokenizer'\r\n",
        "MAX_LEN = 1024\r\n",
        "PUBLIC_ACCESS = False"
      ],
      "execution_count": null,
      "outputs": []
    },
    {
      "cell_type": "code",
      "metadata": {
        "id": "_Xj-XQjNf72C"
      },
      "source": [
        "# TAR.GZ extractor\n",
        "def extract_tar(fname):\n",
        "  tar = tarfile.open(fname, \"r:gz\")\n",
        "  tar.extractall()\n",
        "  tar.close()\n",
        "\n",
        "# Download trained model weights, tokenizer and dataset\n",
        "if PUBLIC_ACCESS:\n",
        "  !gdown --id \"1pFJ0NAvMSn7C-vI-hzeSsCG7ppJGa8EV\"\n",
        "  !gdown --id \"1DMWe7bLI0FZ6Qd5tUyIYBCWMy6uLrHy5\"\n",
        "  !gdown --id \"1Ra6HNBnP8bGutLi7076Vk0kizznjOL-X\"\n",
        "  extract_tar('HotPotQA_EM.tar.gz')\n",
        "  extract_tar('longformer-hotpotqa-model.tar.gz')\n",
        "  extract_tar('longformer-hotpotqa-tokenizer.tar.gz')\n",
        "else:\n",
        "  extract_tar('/content/drive/MyDrive/data/hotpot/HotPotQA_EM.tar.gz')\n",
        "  extract_tar('/content/drive/MyDrive/models/longformer-hotpotqa-model.tar.gz')\n",
        "  extract_tar('/content/drive/MyDrive/models/longformer-hotpotqa-tokenizer.tar.gz')"
      ],
      "execution_count": null,
      "outputs": []
    },
    {
      "cell_type": "code",
      "metadata": {
        "id": "2vdC9V33WApt"
      },
      "source": [
        "# Import Pre-Processed Data\n",
        "with open('train_em_pp.json') as f:\n",
        "    train_data = json.load(f)\n",
        "with open('val_em_pp.json') as f:\n",
        "    val_data = json.load(f)"
      ],
      "execution_count": null,
      "outputs": []
    },
    {
      "cell_type": "code",
      "metadata": {
        "id": "VciEYxesAaK9",
        "colab": {
          "base_uri": "https://localhost:8080/"
        },
        "outputId": "a86c879d-1035-4d8c-e04d-0426583c5a87"
      },
      "source": [
        "# Print header\r\n",
        "train_data[0].keys()"
      ],
      "execution_count": null,
      "outputs": [
        {
          "output_type": "execute_result",
          "data": {
            "text/plain": [
              "dict_keys(['supporting_facts', 'level', 'question', 'context', 'answer', '_id', 'type'])"
            ]
          },
          "metadata": {
            "tags": []
          },
          "execution_count": 6
        }
      ]
    },
    {
      "cell_type": "code",
      "metadata": {
        "id": "LhAUqHNXA6D4",
        "colab": {
          "base_uri": "https://localhost:8080/"
        },
        "outputId": "42730a22-5db3-4691-e7ac-7dec9eaea4d0"
      },
      "source": [
        "# Print a question, context and answer triplet\r\n",
        "print(train_data[0]['question'], train_data[0]['answer'], train_data[0]['context'], sep='\\n')"
      ],
      "execution_count": null,
      "outputs": [
        {
          "output_type": "stream",
          "text": [
            "Who was once considered the best kick boxer in the world, however he has been involved in a number of controversies relating to his \"unsportsmanlike conducts\" in the sport and crimes of violence outside of the ring.\n",
            "Badr Hari\n",
            "['Badr Hari (Arabic: بدر هاري\\u200e \\u200e ; born 8 December 1984) is a Moroccan-Dutch super heavyweight kickboxer from Amsterdam, fighting out of Mike\\'s Gym in Oostzaan. He is a former K-1 Heavyweight champion (2007—2008), It\\'s Showtime Heavyweight world champion (2009-2010) and \"K-1 World Grand Prix 2009\" finalist. Hari has been a prominent figure in the world of kickboxing and was once considered the best kickboxer in the world, however he has been involved in a number of controversies relating to his \"unsportsmanlike conducts\" in the sport and crimes of violence outside of the ring.', 'Cricket has had a number of controversies relating to players being involved with the betting aspects of the game. In particular, numerous players have been approached by bookmakers and bribed to throw matches, aspects of matches (e.g. the toss) or provide other information.', 'Prosecution of gender-targeted crimes is the legal proceedings to prosecute crimes such as rape and domestic violence. The earliest documented prosecution of gender-based/targeted crimes is from 1474 when Sir Peter von Hagenbach was convicted for rapes committed by his troops. However, the trial was unsuccessful in indicting Sir von Hagenbach with the charge of rape because the war in which the rapes occurred was \"undeclared\" and thus the rapes were only considered illegal. Gender-targeted crimes continued to be prosecuted, but it was not until after World War II when an international criminal tribunal- the International Military Tribunal for the Far East (Tokyo Tribunal)- were officers charged for being responsible of the gender-targeted crimes (particularly rape) and other crimes against humanity. Despite the various rape charges, the Charter of the Tokyo Tribunal did not make references to rape, and rape was considered as subordinate to other war crimes. This is also the situation for other tribunals that followed, but with the establishments of the International Criminal Tribunal for the former Yugoslavia (ICTY) and the International Criminal Tribunal for Rwanda (ICTR), there was more attention to the prosecution of gender-targeted crimes with each of the statutes explicitly referring to rape and other forms of gender-targeted violence.', 'Elwood Gordon Gee (born February 2, 1944) is an American academic and is currently serving his second term as President of West Virginia University. He has served as the chief executive at several universities in the United States, previously serving at Ohio State University. Gee had been heading an Ohio State-based think tank following his retirement from the Ohio State presidency on July 1, 2013. He retired in response to a series of controversies relating to comments he made, the last of which involved anti-Catholic comments allegedly made in jest about the University of Notre Dame. His resignation thus ended his second term as the president; he had previously served as president of Ohio State from 1990 to 1997.']\n"
          ],
          "name": "stdout"
        }
      ]
    },
    {
      "cell_type": "code",
      "metadata": {
        "id": "9JE610EBWDnz"
      },
      "source": [
        "# Convert JSON to DF\n",
        "df_train = pd.DataFrame(train_data)\n",
        "df_val = pd.DataFrame(val_data)"
      ],
      "execution_count": null,
      "outputs": []
    },
    {
      "cell_type": "code",
      "metadata": {
        "id": "zp2oWwRpWFzP"
      },
      "source": [
        "# Converts list of sentences to paragraph string\n",
        "def paragraph_maker(context):\n",
        "    # context = []\n",
        "    # for i in x:\n",
        "    #     context.append(''.join(i))\n",
        "    context = ' '.join(context)\n",
        "    return context\n",
        "\n",
        "# Apply paragraph maker\n",
        "df_train['text'] = df_train['context'].apply(paragraph_maker)\n",
        "df_val['text'] = df_val['context'].apply(paragraph_maker)"
      ],
      "execution_count": null,
      "outputs": []
    },
    {
      "cell_type": "code",
      "metadata": {
        "id": "J3T7wCC-v_Gr"
      },
      "source": [
        "# Divide data according to difficulty levels\r\n",
        "df_val_easy = df_val.loc[df_val['level'] == 'easy']\r\n",
        "df_val_medium = df_val.loc[df_val['level'] == 'medium']\r\n",
        "df_val_hard = df_val.loc[df_val['level'] == 'hard']"
      ],
      "execution_count": null,
      "outputs": []
    },
    {
      "cell_type": "markdown",
      "metadata": {
        "id": "8vJjivL9YAxm"
      },
      "source": [
        "## Plot Token Count Distribution after Pre-Processing"
      ]
    },
    {
      "cell_type": "code",
      "metadata": {
        "id": "MqiO1p3CX7Q1"
      },
      "source": [
        "# Extract number of tokens per doc\r\n",
        "sizes = []\r\n",
        "for i in df_train['text'].to_list()+df_val['text'].to_list():\r\n",
        "    sizes.append(len(i.split()))\r\n",
        "sort_size = sorted(sizes)"
      ],
      "execution_count": null,
      "outputs": []
    },
    {
      "cell_type": "code",
      "metadata": {
        "colab": {
          "base_uri": "https://localhost:8080/",
          "height": 530
        },
        "id": "Xff6vLZVsP4-",
        "outputId": "7532a036-3ddc-4a31-cee7-147241f4bdf8"
      },
      "source": [
        "# Plot\r\n",
        "plt.figure(figsize=(12,8))\r\n",
        "plt.title('Token Distribution for Context')\r\n",
        "plt.xlabel('Sample IDs sorted in increasing order of token counts')\r\n",
        "plt.ylabel('Token Counts')\r\n",
        "plt.plot(sort_size)"
      ],
      "execution_count": null,
      "outputs": [
        {
          "output_type": "execute_result",
          "data": {
            "text/plain": [
              "[<matplotlib.lines.Line2D at 0x7fe95785f358>]"
            ]
          },
          "metadata": {
            "tags": []
          },
          "execution_count": 12
        },
        {
          "output_type": "display_data",
          "data": {
            "image/png": "[encoded data removed]",
            "text/plain": [
              "<Figure size 864x576 with 1 Axes>"
            ]
          },
          "metadata": {
            "tags": [],
            "needs_background": "light"
          }
        }
      ]
    },
    {
      "cell_type": "markdown",
      "metadata": {
        "id": "NlfKawySbzg_"
      },
      "source": [
        "## Pre-trained Longformer"
      ]
    },
    {
      "cell_type": "code",
      "metadata": {
        "id": "GewUQNGmXgbX",
        "colab": {
          "base_uri": "https://localhost:8080/"
        },
        "outputId": "f2350ed1-d4d3-49ef-fef2-d2c64553dec3"
      },
      "source": [
        "# Import tokenizer and model\n",
        "tokenizer = LongformerTokenizer.from_pretrained(TOKENIZER)\n",
        "model = TFLongformerForQuestionAnswering.from_pretrained(MODEL)"
      ],
      "execution_count": null,
      "outputs": [
        {
          "output_type": "stream",
          "text": [
            "All model checkpoint layers were used when initializing TFLongformerForQuestionAnswering.\n",
            "\n",
            "All the layers of TFLongformerForQuestionAnswering were initialized from the model checkpoint at longformer-hotpotqa-model.\n",
            "If your task is similar to the task the model of the checkpoint was trained on, you can already use TFLongformerForQuestionAnswering for predictions without further training.\n"
          ],
          "name": "stderr"
        }
      ]
    },
    {
      "cell_type": "code",
      "metadata": {
        "id": "pjUXWrdWxDQV"
      },
      "source": [
        "# Funtion to generate answer for a question and text string\r\n",
        "def get_answer(question, text):\r\n",
        "    inputs = tokenizer.encode_plus(question, text, return_tensors='tf', max_length=MAX_LEN, truncation=True)\r\n",
        "    input_ids = inputs[\"input_ids\"].numpy().tolist()\r\n",
        "    start_scores, end_scores = model(inputs)\r\n",
        "\r\n",
        "    start = tf.math.argmax(start_scores, axis=1).numpy()[0]\r\n",
        "    end = tf.math.argmax(end_scores, axis=1).numpy()[0]\r\n",
        "    \r\n",
        "    all_tokens = tokenizer.convert_ids_to_tokens(input_ids[0])\r\n",
        "    answer = ''.join(all_tokens[start: end + 1]).replace('▁', ' ').strip()\r\n",
        "    answer = answer.replace('[SEP]', '')\r\n",
        "    return answer if ('[CLS]' not in answer) and (len(answer) != 0) else ''"
      ],
      "execution_count": null,
      "outputs": []
    },
    {
      "cell_type": "code",
      "metadata": {
        "id": "CHw1RSt5ZU9R",
        "colab": {
          "base_uri": "https://localhost:8080/"
        },
        "outputId": "2863d72f-58df-4ca5-c96f-923483a77e03"
      },
      "source": [
        "# Print an example inference\r\n",
        "print(get_answer(df_val['question'].iloc[1], df_val['text'].iloc[1]))\r\n",
        "print(df_val['answer'].iloc[1])"
      ],
      "execution_count": null,
      "outputs": [
        {
          "output_type": "stream",
          "text": [
            "Ġpoet\n",
            "poet\n"
          ],
          "name": "stdout"
        }
      ]
    },
    {
      "cell_type": "markdown",
      "metadata": {
        "id": "4QdzR4TDb9hb"
      },
      "source": [
        "## Answer Prediction"
      ]
    },
    {
      "cell_type": "code",
      "metadata": {
        "id": "pn26UFIPcPj1"
      },
      "source": [
        "# Predict answer for a DF with columns 'question' and 'paragraphs'\n",
        "def predict_answers(df):\n",
        "    pred_answers = []\n",
        "    cnt_ans_found = 0\n",
        "    for i in tqdm(range(len(df))):\n",
        "        a = ''\n",
        "        try:\n",
        "            a = get_answer(df['question'].iloc[i], df['text'].iloc[i])\n",
        "            if a != '':\n",
        "                cnt_ans_found += 1\n",
        "        except:\n",
        "            print(f'Error in iteration {i}')\n",
        "        pred_answers.append(a)\n",
        "    return pred_answers, cnt_ans_found"
      ],
      "execution_count": null,
      "outputs": []
    },
    {
      "cell_type": "code",
      "metadata": {
        "id": "03v6CUbGcHWU",
        "colab": {
          "base_uri": "https://localhost:8080/"
        },
        "outputId": "f52e30b6-f3ff-4b3b-d9c9-595505814b3f"
      },
      "source": [
        "# Easy Predictions\n",
        "t0 = time.time()\n",
        "pred_answers_easy, cnt_ans_found_easy = predict_answers(df_val_easy)"
      ],
      "execution_count": null,
      "outputs": [
        {
          "output_type": "stream",
          "text": [
            "100%|██████████| 1797/1797 [18:00<00:00,  1.66it/s]\n"
          ],
          "name": "stderr"
        }
      ]
    },
    {
      "cell_type": "code",
      "metadata": {
        "id": "sO-F4xUId17U",
        "colab": {
          "base_uri": "https://localhost:8080/"
        },
        "outputId": "3b7e780b-4772-432f-eff7-8f2bcd42c081"
      },
      "source": [
        "# Medium Predictions\n",
        "t0 = time.time()\n",
        "pred_answers_medium, cnt_ans_found_medium = predict_answers(df_val_medium)"
      ],
      "execution_count": null,
      "outputs": [
        {
          "output_type": "stream",
          "text": [
            "100%|██████████| 5681/5681 [1:00:17<00:00,  1.57it/s]\n"
          ],
          "name": "stderr"
        }
      ]
    },
    {
      "cell_type": "code",
      "metadata": {
        "id": "PAHYkOMgxe_H",
        "colab": {
          "base_uri": "https://localhost:8080/"
        },
        "outputId": "ffff55b4-ddd1-4767-b853-1dc0f0f3bf8e"
      },
      "source": [
        "# Hard Predictions\n",
        "t0 = time.time()\n",
        "pred_answers_hard, cnt_ans_found_hard = predict_answers(df_val_hard)"
      ],
      "execution_count": null,
      "outputs": [
        {
          "output_type": "stream",
          "text": [
            "0it [00:00, ?it/s]\n"
          ],
          "name": "stderr"
        }
      ]
    },
    {
      "cell_type": "code",
      "metadata": {
        "id": "X4nixLgKtJGM",
        "colab": {
          "base_uri": "https://localhost:8080/"
        },
        "outputId": "6d7f3848-0e60-466b-8fd7-1be44cf1de8b"
      },
      "source": [
        "print(f'Easy Questions Answered {cnt_ans_found_easy} / {len(df_val_easy)}')"
      ],
      "execution_count": null,
      "outputs": [
        {
          "output_type": "stream",
          "text": [
            "Easy Questions Answered 1720 / 1797\n"
          ],
          "name": "stdout"
        }
      ]
    },
    {
      "cell_type": "code",
      "metadata": {
        "id": "qoDaeZzud2Jg",
        "colab": {
          "base_uri": "https://localhost:8080/"
        },
        "outputId": "ad40e0b4-c74b-4513-e987-01dc375a2dc7"
      },
      "source": [
        "print(f'Medium Questions Answered {cnt_ans_found_medium} / {len(df_val_medium)}')"
      ],
      "execution_count": null,
      "outputs": [
        {
          "output_type": "stream",
          "text": [
            "Medium Questions Answered 5440 / 5681\n"
          ],
          "name": "stdout"
        }
      ]
    },
    {
      "cell_type": "code",
      "metadata": {
        "id": "VUx2pWy6xrza",
        "colab": {
          "base_uri": "https://localhost:8080/"
        },
        "outputId": "264945f2-4a87-438b-d0f1-45d1c19c5101"
      },
      "source": [
        "print(f'Hard Questions Answered {cnt_ans_found_hard} / {len(df_val_hard)}')"
      ],
      "execution_count": null,
      "outputs": [
        {
          "output_type": "stream",
          "text": [
            "Hard Questions Answered 0 / 0\n"
          ],
          "name": "stdout"
        }
      ]
    },
    {
      "cell_type": "markdown",
      "metadata": {
        "id": "EFXGM_CGEYX5"
      },
      "source": [
        "## Evaluation"
      ]
    },
    {
      "cell_type": "code",
      "metadata": {
        "id": "yZmMHo1sEaVx"
      },
      "source": [
        "# Evaluation functions taken from HotpotQA\n",
        "def normalize_answer(s):\n",
        "\n",
        "    def remove_articles(text):\n",
        "        return re.sub(r'\\b(a|an|the)\\b', ' ', text)\n",
        "\n",
        "    def white_space_fix(text):\n",
        "        return ' '.join(text.split())\n",
        "\n",
        "    def remove_punc(text):\n",
        "        exclude = set(string.punctuation)\n",
        "        return ''.join(ch for ch in text if ch not in exclude)\n",
        "\n",
        "    def lower(text):\n",
        "        return text.lower()\n",
        "\n",
        "    return white_space_fix(remove_articles(remove_punc(lower(s))))\n",
        "\n",
        "# Exact Match score\n",
        "def exact_match_score(prediction, ground_truth):\n",
        "    return (normalize_answer(prediction) == normalize_answer(ground_truth))\n",
        "\n",
        "# FPR metrics\n",
        "def f1_score(prediction, ground_truth):\n",
        "    normalized_prediction = normalize_answer(prediction)\n",
        "    normalized_ground_truth = normalize_answer(ground_truth)\n",
        "\n",
        "    ZERO_METRIC = (0, 0, 0)\n",
        "\n",
        "    if normalized_prediction in ['yes', 'no', 'noanswer'] and normalized_prediction != normalized_ground_truth:\n",
        "        return ZERO_METRIC\n",
        "    if normalized_ground_truth in ['yes', 'no', 'noanswer'] and normalized_prediction != normalized_ground_truth:\n",
        "        return ZERO_METRIC\n",
        "\n",
        "    prediction_tokens = normalized_prediction.split()\n",
        "    ground_truth_tokens = normalized_ground_truth.split()\n",
        "    common = Counter(prediction_tokens) & Counter(ground_truth_tokens)\n",
        "    num_same = sum(common.values())\n",
        "    if num_same == 0:\n",
        "        return ZERO_METRIC\n",
        "    precision = 1.0 * num_same / len(prediction_tokens)\n",
        "    recall = 1.0 * num_same / len(ground_truth_tokens)\n",
        "    f1 = (2 * precision * recall) / (precision + recall)\n",
        "    return f1, precision, recall"
      ],
      "execution_count": null,
      "outputs": []
    },
    {
      "cell_type": "code",
      "metadata": {
        "id": "ALC5Gt4LuQ0z"
      },
      "source": [
        "# Normalize the predictions by removing the seperator\n",
        "pred_answers_easy_n = [' '.join(i.split('Ġ')) for i in pred_answers_easy]\n",
        "pred_answers_medium_n = [' '.join(i.split('Ġ')) for i in pred_answers_medium]\n",
        "pred_answers_hard_n = [' '.join(i.split('Ġ')) for i in pred_answers_hard]"
      ],
      "execution_count": null,
      "outputs": []
    },
    {
      "cell_type": "code",
      "metadata": {
        "id": "2yoPoKNnso90"
      },
      "source": [
        "# Create a list of true answers for easy and medium\n",
        "true_answers_easy = df_val_easy['answer'].to_list()\n",
        "true_answers_medium = df_val_medium['answer'].to_list()\n",
        "true_answers_hard = df_val_hard['answer'].to_list()"
      ],
      "execution_count": null,
      "outputs": []
    },
    {
      "cell_type": "code",
      "metadata": {
        "id": "U2TqUTs4r3BT"
      },
      "source": [
        "# Calculate F1 and exact match score EM for each document in both easy and medium sets\n",
        "f1_easy = []\n",
        "em_easy = []\n",
        "f1_medium = []\n",
        "em_medium = []\n",
        "f1_hard = []\n",
        "em_hard = []\n",
        "\n",
        "# Easy\n",
        "for i in range(len(pred_answers_easy_n)):\n",
        "    f1_easy.append(f1_score(pred_answers_easy_n[i], true_answers_easy[i])[0])\n",
        "    em_easy.append(exact_match_score(pred_answers_easy_n[i], true_answers_easy[i]))\n",
        "\n",
        "# Medium\n",
        "for i in range(len(pred_answers_medium_n)):\n",
        "    f1_medium.append(f1_score(pred_answers_medium_n[i], true_answers_medium[i])[0])\n",
        "    em_medium.append(exact_match_score(pred_answers_medium_n[i], true_answers_medium[i]))\n",
        "\n",
        "# Hard\n",
        "for i in range(len(pred_answers_hard_n)):\n",
        "    f1_hard.append(f1_score(pred_answers_hard_n[i], true_answers_hard[i])[0])\n",
        "    em_hard.append(exact_match_score(pred_answers_hard_n[i], true_answers_hard[i]))"
      ],
      "execution_count": null,
      "outputs": []
    },
    {
      "cell_type": "code",
      "metadata": {
        "id": "Me0s9_tPsfJT",
        "colab": {
          "base_uri": "https://localhost:8080/"
        },
        "outputId": "e21ff2fd-a297-4d99-b37b-0c6e35d81aae"
      },
      "source": [
        "# Trained model scores\n",
        "print(f\"Overall Mean F1: {np.mean(f1_easy+f1_medium+f1_hard)}\")\n",
        "print(f\"Overall Mean EM: {np.mean(em_easy+em_medium+em_hard)}\")\n",
        "\n",
        "print(f\"Easy Mean F1: {np.mean(f1_easy)}\")\n",
        "print(f\"Easy Mean EM: {np.mean(em_easy)}\")\n",
        "\n",
        "print(f\"Medium Mean F1: {np.mean(f1_medium)}\")\n",
        "print(f\"Medium Mean EM: {np.mean(em_medium)}\")\n",
        "\n",
        "# print(f\"Hard Mean F1: {np.mean(f1_hard)}\")\n",
        "# print(f\"Hard Mean EM: {np.mean(em_hard)}\")"
      ],
      "execution_count": null,
      "outputs": [
        {
          "output_type": "stream",
          "text": [
            "Overall Mean F1: 0.48962635580772135\n",
            "Overall Mean EM: 0.4223054292591602\n",
            "Easy Mean F1: 0.5807768434847046\n",
            "Easy Mean EM: 0.4785754034501948\n",
            "Medium Mean F1: 0.4607938568893023\n",
            "Medium Mean EM: 0.4045062488998416\n"
          ],
          "name": "stdout"
        }
      ]
    }
  ]
}